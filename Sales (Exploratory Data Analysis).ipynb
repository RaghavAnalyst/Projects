{
 "cells": [
  {
   "cell_type": "markdown",
   "id": "3e8ecb2c",
   "metadata": {},
   "source": [
    "# In the below mentioned data, I have performed Exploratory Data Analysis(EDA) on the sales done by an organization across various States of USA and in the various categories"
   ]
  },
  {
   "cell_type": "markdown",
   "id": "c1aa7d91",
   "metadata": {},
   "source": [
    "importing libraries for data cleaning and visualizing"
   ]
  },
  {
   "cell_type": "code",
   "execution_count": 1,
   "id": "ac7c55d8",
   "metadata": {},
   "outputs": [],
   "source": [
    "import pandas as pd\n",
    "import numpy as np\n",
    "import matplotlib.pyplot as plt\n",
    "import seaborn as sns"
   ]
  },
  {
   "cell_type": "code",
   "execution_count": 2,
   "id": "a1d5f807",
   "metadata": {},
   "outputs": [
    {
     "data": {
      "text/html": [
       "<div>\n",
       "<style scoped>\n",
       "    .dataframe tbody tr th:only-of-type {\n",
       "        vertical-align: middle;\n",
       "    }\n",
       "\n",
       "    .dataframe tbody tr th {\n",
       "        vertical-align: top;\n",
       "    }\n",
       "\n",
       "    .dataframe thead th {\n",
       "        text-align: right;\n",
       "    }\n",
       "</style>\n",
       "<table border=\"1\" class=\"dataframe\">\n",
       "  <thead>\n",
       "    <tr style=\"text-align: right;\">\n",
       "      <th></th>\n",
       "      <th>Row ID</th>\n",
       "      <th>Order ID</th>\n",
       "      <th>Ship Date</th>\n",
       "      <th>Ship Mode</th>\n",
       "      <th>Customer ID</th>\n",
       "      <th>Customer Name</th>\n",
       "      <th>Segment</th>\n",
       "      <th>Country</th>\n",
       "      <th>City</th>\n",
       "      <th>State</th>\n",
       "      <th>Postal Code</th>\n",
       "      <th>Region</th>\n",
       "      <th>Product ID</th>\n",
       "      <th>Category</th>\n",
       "      <th>Sub-Category</th>\n",
       "      <th>Product Name</th>\n",
       "      <th>Sales</th>\n",
       "    </tr>\n",
       "    <tr>\n",
       "      <th>Order Date</th>\n",
       "      <th></th>\n",
       "      <th></th>\n",
       "      <th></th>\n",
       "      <th></th>\n",
       "      <th></th>\n",
       "      <th></th>\n",
       "      <th></th>\n",
       "      <th></th>\n",
       "      <th></th>\n",
       "      <th></th>\n",
       "      <th></th>\n",
       "      <th></th>\n",
       "      <th></th>\n",
       "      <th></th>\n",
       "      <th></th>\n",
       "      <th></th>\n",
       "      <th></th>\n",
       "    </tr>\n",
       "  </thead>\n",
       "  <tbody>\n",
       "    <tr>\n",
       "      <th>2017-08-11</th>\n",
       "      <td>1</td>\n",
       "      <td>CA-2017-152156</td>\n",
       "      <td>11/11/2017</td>\n",
       "      <td>Second Class</td>\n",
       "      <td>CG-12520</td>\n",
       "      <td>Claire Gute</td>\n",
       "      <td>Consumer</td>\n",
       "      <td>United States</td>\n",
       "      <td>Henderson</td>\n",
       "      <td>Kentucky</td>\n",
       "      <td>42420.0</td>\n",
       "      <td>South</td>\n",
       "      <td>FUR-BO-10001798</td>\n",
       "      <td>Furniture</td>\n",
       "      <td>Bookcases</td>\n",
       "      <td>Bush Somerset Collection Bookcase</td>\n",
       "      <td>261.9600</td>\n",
       "    </tr>\n",
       "    <tr>\n",
       "      <th>2017-08-11</th>\n",
       "      <td>2</td>\n",
       "      <td>CA-2017-152156</td>\n",
       "      <td>11/11/2017</td>\n",
       "      <td>Second Class</td>\n",
       "      <td>CG-12520</td>\n",
       "      <td>Claire Gute</td>\n",
       "      <td>Consumer</td>\n",
       "      <td>United States</td>\n",
       "      <td>Henderson</td>\n",
       "      <td>Kentucky</td>\n",
       "      <td>42420.0</td>\n",
       "      <td>South</td>\n",
       "      <td>FUR-CH-10000454</td>\n",
       "      <td>Furniture</td>\n",
       "      <td>Chairs</td>\n",
       "      <td>Hon Deluxe Fabric Upholstered Stacking Chairs,...</td>\n",
       "      <td>731.9400</td>\n",
       "    </tr>\n",
       "    <tr>\n",
       "      <th>2017-12-06</th>\n",
       "      <td>3</td>\n",
       "      <td>CA-2017-138688</td>\n",
       "      <td>16/06/2017</td>\n",
       "      <td>Second Class</td>\n",
       "      <td>DV-13045</td>\n",
       "      <td>Darrin Van Huff</td>\n",
       "      <td>Corporate</td>\n",
       "      <td>United States</td>\n",
       "      <td>Los Angeles</td>\n",
       "      <td>California</td>\n",
       "      <td>90036.0</td>\n",
       "      <td>West</td>\n",
       "      <td>OFF-LA-10000240</td>\n",
       "      <td>Office Supplies</td>\n",
       "      <td>Labels</td>\n",
       "      <td>Self-Adhesive Address Labels for Typewriters b...</td>\n",
       "      <td>14.6200</td>\n",
       "    </tr>\n",
       "    <tr>\n",
       "      <th>2016-11-10</th>\n",
       "      <td>4</td>\n",
       "      <td>US-2016-108966</td>\n",
       "      <td>18/10/2016</td>\n",
       "      <td>Standard Class</td>\n",
       "      <td>SO-20335</td>\n",
       "      <td>Sean O'Donnell</td>\n",
       "      <td>Consumer</td>\n",
       "      <td>United States</td>\n",
       "      <td>Fort Lauderdale</td>\n",
       "      <td>Florida</td>\n",
       "      <td>33311.0</td>\n",
       "      <td>South</td>\n",
       "      <td>FUR-TA-10000577</td>\n",
       "      <td>Furniture</td>\n",
       "      <td>Tables</td>\n",
       "      <td>Bretford CR4500 Series Slim Rectangular Table</td>\n",
       "      <td>957.5775</td>\n",
       "    </tr>\n",
       "    <tr>\n",
       "      <th>2016-11-10</th>\n",
       "      <td>5</td>\n",
       "      <td>US-2016-108966</td>\n",
       "      <td>18/10/2016</td>\n",
       "      <td>Standard Class</td>\n",
       "      <td>SO-20335</td>\n",
       "      <td>Sean O'Donnell</td>\n",
       "      <td>Consumer</td>\n",
       "      <td>United States</td>\n",
       "      <td>Fort Lauderdale</td>\n",
       "      <td>Florida</td>\n",
       "      <td>33311.0</td>\n",
       "      <td>South</td>\n",
       "      <td>OFF-ST-10000760</td>\n",
       "      <td>Office Supplies</td>\n",
       "      <td>Storage</td>\n",
       "      <td>Eldon Fold 'N Roll Cart System</td>\n",
       "      <td>22.3680</td>\n",
       "    </tr>\n",
       "    <tr>\n",
       "      <th>...</th>\n",
       "      <td>...</td>\n",
       "      <td>...</td>\n",
       "      <td>...</td>\n",
       "      <td>...</td>\n",
       "      <td>...</td>\n",
       "      <td>...</td>\n",
       "      <td>...</td>\n",
       "      <td>...</td>\n",
       "      <td>...</td>\n",
       "      <td>...</td>\n",
       "      <td>...</td>\n",
       "      <td>...</td>\n",
       "      <td>...</td>\n",
       "      <td>...</td>\n",
       "      <td>...</td>\n",
       "      <td>...</td>\n",
       "      <td>...</td>\n",
       "    </tr>\n",
       "    <tr>\n",
       "      <th>2017-05-21</th>\n",
       "      <td>9796</td>\n",
       "      <td>CA-2017-125920</td>\n",
       "      <td>28/05/2017</td>\n",
       "      <td>Standard Class</td>\n",
       "      <td>SH-19975</td>\n",
       "      <td>Sally Hughsby</td>\n",
       "      <td>Corporate</td>\n",
       "      <td>United States</td>\n",
       "      <td>Chicago</td>\n",
       "      <td>Illinois</td>\n",
       "      <td>60610.0</td>\n",
       "      <td>Central</td>\n",
       "      <td>OFF-BI-10003429</td>\n",
       "      <td>Office Supplies</td>\n",
       "      <td>Binders</td>\n",
       "      <td>Cardinal HOLDit! Binder Insert Strips,Extra St...</td>\n",
       "      <td>3.7980</td>\n",
       "    </tr>\n",
       "    <tr>\n",
       "      <th>2016-12-01</th>\n",
       "      <td>9797</td>\n",
       "      <td>CA-2016-128608</td>\n",
       "      <td>17/01/2016</td>\n",
       "      <td>Standard Class</td>\n",
       "      <td>CS-12490</td>\n",
       "      <td>Cindy Schnelling</td>\n",
       "      <td>Corporate</td>\n",
       "      <td>United States</td>\n",
       "      <td>Toledo</td>\n",
       "      <td>Ohio</td>\n",
       "      <td>43615.0</td>\n",
       "      <td>East</td>\n",
       "      <td>OFF-AR-10001374</td>\n",
       "      <td>Office Supplies</td>\n",
       "      <td>Art</td>\n",
       "      <td>BIC Brite Liner Highlighters, Chisel Tip</td>\n",
       "      <td>10.3680</td>\n",
       "    </tr>\n",
       "    <tr>\n",
       "      <th>2016-12-01</th>\n",
       "      <td>9798</td>\n",
       "      <td>CA-2016-128608</td>\n",
       "      <td>17/01/2016</td>\n",
       "      <td>Standard Class</td>\n",
       "      <td>CS-12490</td>\n",
       "      <td>Cindy Schnelling</td>\n",
       "      <td>Corporate</td>\n",
       "      <td>United States</td>\n",
       "      <td>Toledo</td>\n",
       "      <td>Ohio</td>\n",
       "      <td>43615.0</td>\n",
       "      <td>East</td>\n",
       "      <td>TEC-PH-10004977</td>\n",
       "      <td>Technology</td>\n",
       "      <td>Phones</td>\n",
       "      <td>GE 30524EE4</td>\n",
       "      <td>235.1880</td>\n",
       "    </tr>\n",
       "    <tr>\n",
       "      <th>2016-12-01</th>\n",
       "      <td>9799</td>\n",
       "      <td>CA-2016-128608</td>\n",
       "      <td>17/01/2016</td>\n",
       "      <td>Standard Class</td>\n",
       "      <td>CS-12490</td>\n",
       "      <td>Cindy Schnelling</td>\n",
       "      <td>Corporate</td>\n",
       "      <td>United States</td>\n",
       "      <td>Toledo</td>\n",
       "      <td>Ohio</td>\n",
       "      <td>43615.0</td>\n",
       "      <td>East</td>\n",
       "      <td>TEC-PH-10000912</td>\n",
       "      <td>Technology</td>\n",
       "      <td>Phones</td>\n",
       "      <td>Anker 24W Portable Micro USB Car Charger</td>\n",
       "      <td>26.3760</td>\n",
       "    </tr>\n",
       "    <tr>\n",
       "      <th>2016-12-01</th>\n",
       "      <td>9800</td>\n",
       "      <td>CA-2016-128608</td>\n",
       "      <td>17/01/2016</td>\n",
       "      <td>Standard Class</td>\n",
       "      <td>CS-12490</td>\n",
       "      <td>Cindy Schnelling</td>\n",
       "      <td>Corporate</td>\n",
       "      <td>United States</td>\n",
       "      <td>Toledo</td>\n",
       "      <td>Ohio</td>\n",
       "      <td>43615.0</td>\n",
       "      <td>East</td>\n",
       "      <td>TEC-AC-10000487</td>\n",
       "      <td>Technology</td>\n",
       "      <td>Accessories</td>\n",
       "      <td>SanDisk Cruzer 4 GB USB Flash Drive</td>\n",
       "      <td>10.3840</td>\n",
       "    </tr>\n",
       "  </tbody>\n",
       "</table>\n",
       "<p>9800 rows × 17 columns</p>\n",
       "</div>"
      ],
      "text/plain": [
       "            Row ID        Order ID   Ship Date       Ship Mode Customer ID  \\\n",
       "Order Date                                                                   \n",
       "2017-08-11       1  CA-2017-152156  11/11/2017    Second Class    CG-12520   \n",
       "2017-08-11       2  CA-2017-152156  11/11/2017    Second Class    CG-12520   \n",
       "2017-12-06       3  CA-2017-138688  16/06/2017    Second Class    DV-13045   \n",
       "2016-11-10       4  US-2016-108966  18/10/2016  Standard Class    SO-20335   \n",
       "2016-11-10       5  US-2016-108966  18/10/2016  Standard Class    SO-20335   \n",
       "...            ...             ...         ...             ...         ...   \n",
       "2017-05-21    9796  CA-2017-125920  28/05/2017  Standard Class    SH-19975   \n",
       "2016-12-01    9797  CA-2016-128608  17/01/2016  Standard Class    CS-12490   \n",
       "2016-12-01    9798  CA-2016-128608  17/01/2016  Standard Class    CS-12490   \n",
       "2016-12-01    9799  CA-2016-128608  17/01/2016  Standard Class    CS-12490   \n",
       "2016-12-01    9800  CA-2016-128608  17/01/2016  Standard Class    CS-12490   \n",
       "\n",
       "               Customer Name    Segment        Country             City  \\\n",
       "Order Date                                                                \n",
       "2017-08-11       Claire Gute   Consumer  United States        Henderson   \n",
       "2017-08-11       Claire Gute   Consumer  United States        Henderson   \n",
       "2017-12-06   Darrin Van Huff  Corporate  United States      Los Angeles   \n",
       "2016-11-10    Sean O'Donnell   Consumer  United States  Fort Lauderdale   \n",
       "2016-11-10    Sean O'Donnell   Consumer  United States  Fort Lauderdale   \n",
       "...                      ...        ...            ...              ...   \n",
       "2017-05-21     Sally Hughsby  Corporate  United States          Chicago   \n",
       "2016-12-01  Cindy Schnelling  Corporate  United States           Toledo   \n",
       "2016-12-01  Cindy Schnelling  Corporate  United States           Toledo   \n",
       "2016-12-01  Cindy Schnelling  Corporate  United States           Toledo   \n",
       "2016-12-01  Cindy Schnelling  Corporate  United States           Toledo   \n",
       "\n",
       "                 State  Postal Code   Region       Product ID  \\\n",
       "Order Date                                                      \n",
       "2017-08-11    Kentucky      42420.0    South  FUR-BO-10001798   \n",
       "2017-08-11    Kentucky      42420.0    South  FUR-CH-10000454   \n",
       "2017-12-06  California      90036.0     West  OFF-LA-10000240   \n",
       "2016-11-10     Florida      33311.0    South  FUR-TA-10000577   \n",
       "2016-11-10     Florida      33311.0    South  OFF-ST-10000760   \n",
       "...                ...          ...      ...              ...   \n",
       "2017-05-21    Illinois      60610.0  Central  OFF-BI-10003429   \n",
       "2016-12-01        Ohio      43615.0     East  OFF-AR-10001374   \n",
       "2016-12-01        Ohio      43615.0     East  TEC-PH-10004977   \n",
       "2016-12-01        Ohio      43615.0     East  TEC-PH-10000912   \n",
       "2016-12-01        Ohio      43615.0     East  TEC-AC-10000487   \n",
       "\n",
       "                   Category Sub-Category  \\\n",
       "Order Date                                 \n",
       "2017-08-11        Furniture    Bookcases   \n",
       "2017-08-11        Furniture       Chairs   \n",
       "2017-12-06  Office Supplies       Labels   \n",
       "2016-11-10        Furniture       Tables   \n",
       "2016-11-10  Office Supplies      Storage   \n",
       "...                     ...          ...   \n",
       "2017-05-21  Office Supplies      Binders   \n",
       "2016-12-01  Office Supplies          Art   \n",
       "2016-12-01       Technology       Phones   \n",
       "2016-12-01       Technology       Phones   \n",
       "2016-12-01       Technology  Accessories   \n",
       "\n",
       "                                                 Product Name     Sales  \n",
       "Order Date                                                               \n",
       "2017-08-11                  Bush Somerset Collection Bookcase  261.9600  \n",
       "2017-08-11  Hon Deluxe Fabric Upholstered Stacking Chairs,...  731.9400  \n",
       "2017-12-06  Self-Adhesive Address Labels for Typewriters b...   14.6200  \n",
       "2016-11-10      Bretford CR4500 Series Slim Rectangular Table  957.5775  \n",
       "2016-11-10                     Eldon Fold 'N Roll Cart System   22.3680  \n",
       "...                                                       ...       ...  \n",
       "2017-05-21  Cardinal HOLDit! Binder Insert Strips,Extra St...    3.7980  \n",
       "2016-12-01           BIC Brite Liner Highlighters, Chisel Tip   10.3680  \n",
       "2016-12-01                                        GE 30524EE4  235.1880  \n",
       "2016-12-01           Anker 24W Portable Micro USB Car Charger   26.3760  \n",
       "2016-12-01                SanDisk Cruzer 4 GB USB Flash Drive   10.3840  \n",
       "\n",
       "[9800 rows x 17 columns]"
      ]
     },
     "execution_count": 2,
     "metadata": {},
     "output_type": "execute_result"
    }
   ],
   "source": [
    "df = pd.read_csv('train.csv',parse_dates = ['Order Date'], index_col = ['Order Date'])\n",
    "df"
   ]
  },
  {
   "cell_type": "markdown",
   "id": "9e98eac9",
   "metadata": {},
   "source": [
    "Once the dataset has been loaded, we shall check the data_type of the various columns "
   ]
  },
  {
   "cell_type": "markdown",
   "id": "e24dc62b",
   "metadata": {},
   "source": [
    "After that, the data cleaning shall start which includes finding and removing null values, duplicates, and outliers"
   ]
  },
  {
   "cell_type": "code",
   "execution_count": 3,
   "id": "ab725d2c",
   "metadata": {},
   "outputs": [
    {
     "name": "stdout",
     "output_type": "stream",
     "text": [
      "<class 'pandas.core.frame.DataFrame'>\n",
      "DatetimeIndex: 9800 entries, 2017-08-11 to 2016-12-01\n",
      "Data columns (total 17 columns):\n",
      " #   Column         Non-Null Count  Dtype  \n",
      "---  ------         --------------  -----  \n",
      " 0   Row ID         9800 non-null   int64  \n",
      " 1   Order ID       9800 non-null   object \n",
      " 2   Ship Date      9800 non-null   object \n",
      " 3   Ship Mode      9800 non-null   object \n",
      " 4   Customer ID    9800 non-null   object \n",
      " 5   Customer Name  9800 non-null   object \n",
      " 6   Segment        9800 non-null   object \n",
      " 7   Country        9800 non-null   object \n",
      " 8   City           9800 non-null   object \n",
      " 9   State          9800 non-null   object \n",
      " 10  Postal Code    9789 non-null   float64\n",
      " 11  Region         9800 non-null   object \n",
      " 12  Product ID     9800 non-null   object \n",
      " 13  Category       9800 non-null   object \n",
      " 14  Sub-Category   9800 non-null   object \n",
      " 15  Product Name   9800 non-null   object \n",
      " 16  Sales          9800 non-null   float64\n",
      "dtypes: float64(2), int64(1), object(14)\n",
      "memory usage: 1.3+ MB\n"
     ]
    }
   ],
   "source": [
    "df.info()"
   ]
  },
  {
   "cell_type": "code",
   "execution_count": 4,
   "id": "b0e418ac",
   "metadata": {},
   "outputs": [
    {
     "data": {
      "text/plain": [
       "Row ID            0\n",
       "Order ID          0\n",
       "Ship Date         0\n",
       "Ship Mode         0\n",
       "Customer ID       0\n",
       "Customer Name     0\n",
       "Segment           0\n",
       "Country           0\n",
       "City              0\n",
       "State             0\n",
       "Postal Code      11\n",
       "Region            0\n",
       "Product ID        0\n",
       "Category          0\n",
       "Sub-Category      0\n",
       "Product Name      0\n",
       "Sales             0\n",
       "dtype: int64"
      ]
     },
     "execution_count": 4,
     "metadata": {},
     "output_type": "execute_result"
    }
   ],
   "source": [
    "df.isnull().sum()"
   ]
  },
  {
   "cell_type": "code",
   "execution_count": 5,
   "id": "13d5e1e2",
   "metadata": {},
   "outputs": [
    {
     "data": {
      "text/plain": [
       "0"
      ]
     },
     "execution_count": 5,
     "metadata": {},
     "output_type": "execute_result"
    }
   ],
   "source": [
    "df.duplicated().sum() # there are no duplicate values in the dataset"
   ]
  },
  {
   "cell_type": "code",
   "execution_count": 6,
   "id": "fcc6fa8e",
   "metadata": {},
   "outputs": [
    {
     "data": {
      "text/html": [
       "<div>\n",
       "<style scoped>\n",
       "    .dataframe tbody tr th:only-of-type {\n",
       "        vertical-align: middle;\n",
       "    }\n",
       "\n",
       "    .dataframe tbody tr th {\n",
       "        vertical-align: top;\n",
       "    }\n",
       "\n",
       "    .dataframe thead th {\n",
       "        text-align: right;\n",
       "    }\n",
       "</style>\n",
       "<table border=\"1\" class=\"dataframe\">\n",
       "  <thead>\n",
       "    <tr style=\"text-align: right;\">\n",
       "      <th></th>\n",
       "      <th>Row ID</th>\n",
       "      <th>Postal Code</th>\n",
       "      <th>Sales</th>\n",
       "    </tr>\n",
       "  </thead>\n",
       "  <tbody>\n",
       "    <tr>\n",
       "      <th>count</th>\n",
       "      <td>9800.000000</td>\n",
       "      <td>9789.000000</td>\n",
       "      <td>9800.000000</td>\n",
       "    </tr>\n",
       "    <tr>\n",
       "      <th>mean</th>\n",
       "      <td>4900.500000</td>\n",
       "      <td>55273.322403</td>\n",
       "      <td>230.769059</td>\n",
       "    </tr>\n",
       "    <tr>\n",
       "      <th>std</th>\n",
       "      <td>2829.160653</td>\n",
       "      <td>32041.223413</td>\n",
       "      <td>626.651875</td>\n",
       "    </tr>\n",
       "    <tr>\n",
       "      <th>min</th>\n",
       "      <td>1.000000</td>\n",
       "      <td>1040.000000</td>\n",
       "      <td>0.444000</td>\n",
       "    </tr>\n",
       "    <tr>\n",
       "      <th>25%</th>\n",
       "      <td>2450.750000</td>\n",
       "      <td>23223.000000</td>\n",
       "      <td>17.248000</td>\n",
       "    </tr>\n",
       "    <tr>\n",
       "      <th>50%</th>\n",
       "      <td>4900.500000</td>\n",
       "      <td>58103.000000</td>\n",
       "      <td>54.490000</td>\n",
       "    </tr>\n",
       "    <tr>\n",
       "      <th>75%</th>\n",
       "      <td>7350.250000</td>\n",
       "      <td>90008.000000</td>\n",
       "      <td>210.605000</td>\n",
       "    </tr>\n",
       "    <tr>\n",
       "      <th>max</th>\n",
       "      <td>9800.000000</td>\n",
       "      <td>99301.000000</td>\n",
       "      <td>22638.480000</td>\n",
       "    </tr>\n",
       "  </tbody>\n",
       "</table>\n",
       "</div>"
      ],
      "text/plain": [
       "            Row ID   Postal Code         Sales\n",
       "count  9800.000000   9789.000000   9800.000000\n",
       "mean   4900.500000  55273.322403    230.769059\n",
       "std    2829.160653  32041.223413    626.651875\n",
       "min       1.000000   1040.000000      0.444000\n",
       "25%    2450.750000  23223.000000     17.248000\n",
       "50%    4900.500000  58103.000000     54.490000\n",
       "75%    7350.250000  90008.000000    210.605000\n",
       "max    9800.000000  99301.000000  22638.480000"
      ]
     },
     "execution_count": 6,
     "metadata": {},
     "output_type": "execute_result"
    }
   ],
   "source": [
    "df.describe()"
   ]
  },
  {
   "cell_type": "markdown",
   "id": "a74f9273",
   "metadata": {},
   "source": [
    "As we can see that there is a greater difference between the 75 percentile and the max value in case of Sales. We need to find out is the max value correct or an outlier"
   ]
  },
  {
   "cell_type": "code",
   "execution_count": 7,
   "id": "ec093dd9",
   "metadata": {},
   "outputs": [
    {
     "data": {
      "text/html": [
       "<div>\n",
       "<style scoped>\n",
       "    .dataframe tbody tr th:only-of-type {\n",
       "        vertical-align: middle;\n",
       "    }\n",
       "\n",
       "    .dataframe tbody tr th {\n",
       "        vertical-align: top;\n",
       "    }\n",
       "\n",
       "    .dataframe thead th {\n",
       "        text-align: right;\n",
       "    }\n",
       "</style>\n",
       "<table border=\"1\" class=\"dataframe\">\n",
       "  <thead>\n",
       "    <tr style=\"text-align: right;\">\n",
       "      <th></th>\n",
       "      <th>Row ID</th>\n",
       "      <th>Order ID</th>\n",
       "      <th>Ship Date</th>\n",
       "      <th>Ship Mode</th>\n",
       "      <th>Customer ID</th>\n",
       "      <th>Customer Name</th>\n",
       "      <th>Segment</th>\n",
       "      <th>Country</th>\n",
       "      <th>City</th>\n",
       "      <th>State</th>\n",
       "      <th>Postal Code</th>\n",
       "      <th>Region</th>\n",
       "      <th>Product ID</th>\n",
       "      <th>Category</th>\n",
       "      <th>Sub-Category</th>\n",
       "      <th>Product Name</th>\n",
       "      <th>Sales</th>\n",
       "    </tr>\n",
       "    <tr>\n",
       "      <th>Order Date</th>\n",
       "      <th></th>\n",
       "      <th></th>\n",
       "      <th></th>\n",
       "      <th></th>\n",
       "      <th></th>\n",
       "      <th></th>\n",
       "      <th></th>\n",
       "      <th></th>\n",
       "      <th></th>\n",
       "      <th></th>\n",
       "      <th></th>\n",
       "      <th></th>\n",
       "      <th></th>\n",
       "      <th></th>\n",
       "      <th></th>\n",
       "      <th></th>\n",
       "      <th></th>\n",
       "    </tr>\n",
       "  </thead>\n",
       "  <tbody>\n",
       "    <tr>\n",
       "      <th>2015-03-18</th>\n",
       "      <td>2698</td>\n",
       "      <td>CA-2015-145317</td>\n",
       "      <td>23/03/2015</td>\n",
       "      <td>Standard Class</td>\n",
       "      <td>SM-20320</td>\n",
       "      <td>Sean Miller</td>\n",
       "      <td>Home Office</td>\n",
       "      <td>United States</td>\n",
       "      <td>Jacksonville</td>\n",
       "      <td>Florida</td>\n",
       "      <td>32216.0</td>\n",
       "      <td>South</td>\n",
       "      <td>TEC-MA-10002412</td>\n",
       "      <td>Technology</td>\n",
       "      <td>Machines</td>\n",
       "      <td>Cisco TelePresence System EX90 Videoconferenci...</td>\n",
       "      <td>22638.48</td>\n",
       "    </tr>\n",
       "  </tbody>\n",
       "</table>\n",
       "</div>"
      ],
      "text/plain": [
       "            Row ID        Order ID   Ship Date       Ship Mode Customer ID  \\\n",
       "Order Date                                                                   \n",
       "2015-03-18    2698  CA-2015-145317  23/03/2015  Standard Class    SM-20320   \n",
       "\n",
       "           Customer Name      Segment        Country          City    State  \\\n",
       "Order Date                                                                    \n",
       "2015-03-18   Sean Miller  Home Office  United States  Jacksonville  Florida   \n",
       "\n",
       "            Postal Code Region       Product ID    Category Sub-Category  \\\n",
       "Order Date                                                                 \n",
       "2015-03-18      32216.0  South  TEC-MA-10002412  Technology     Machines   \n",
       "\n",
       "                                                 Product Name     Sales  \n",
       "Order Date                                                               \n",
       "2015-03-18  Cisco TelePresence System EX90 Videoconferenci...  22638.48  "
      ]
     },
     "execution_count": 7,
     "metadata": {},
     "output_type": "execute_result"
    }
   ],
   "source": [
    "df[df['Sales'] > 18000]"
   ]
  },
  {
   "cell_type": "code",
   "execution_count": 8,
   "id": "a2ecd158",
   "metadata": {},
   "outputs": [
    {
     "data": {
      "text/html": [
       "<div>\n",
       "<style scoped>\n",
       "    .dataframe tbody tr th:only-of-type {\n",
       "        vertical-align: middle;\n",
       "    }\n",
       "\n",
       "    .dataframe tbody tr th {\n",
       "        vertical-align: top;\n",
       "    }\n",
       "\n",
       "    .dataframe thead th {\n",
       "        text-align: right;\n",
       "    }\n",
       "</style>\n",
       "<table border=\"1\" class=\"dataframe\">\n",
       "  <thead>\n",
       "    <tr style=\"text-align: right;\">\n",
       "      <th></th>\n",
       "      <th>Row ID</th>\n",
       "      <th>Order ID</th>\n",
       "      <th>Ship Date</th>\n",
       "      <th>Ship Mode</th>\n",
       "      <th>Customer ID</th>\n",
       "      <th>Customer Name</th>\n",
       "      <th>Segment</th>\n",
       "      <th>Country</th>\n",
       "      <th>City</th>\n",
       "      <th>State</th>\n",
       "      <th>Postal Code</th>\n",
       "      <th>Region</th>\n",
       "      <th>Product ID</th>\n",
       "      <th>Category</th>\n",
       "      <th>Sub-Category</th>\n",
       "      <th>Product Name</th>\n",
       "      <th>Sales</th>\n",
       "    </tr>\n",
       "    <tr>\n",
       "      <th>Order Date</th>\n",
       "      <th></th>\n",
       "      <th></th>\n",
       "      <th></th>\n",
       "      <th></th>\n",
       "      <th></th>\n",
       "      <th></th>\n",
       "      <th></th>\n",
       "      <th></th>\n",
       "      <th></th>\n",
       "      <th></th>\n",
       "      <th></th>\n",
       "      <th></th>\n",
       "      <th></th>\n",
       "      <th></th>\n",
       "      <th></th>\n",
       "      <th></th>\n",
       "      <th></th>\n",
       "    </tr>\n",
       "  </thead>\n",
       "  <tbody>\n",
       "    <tr>\n",
       "      <th>2015-03-18</th>\n",
       "      <td>2697</td>\n",
       "      <td>CA-2015-145317</td>\n",
       "      <td>23/03/2015</td>\n",
       "      <td>Standard Class</td>\n",
       "      <td>SM-20320</td>\n",
       "      <td>Sean Miller</td>\n",
       "      <td>Home Office</td>\n",
       "      <td>United States</td>\n",
       "      <td>Jacksonville</td>\n",
       "      <td>Florida</td>\n",
       "      <td>32216.0</td>\n",
       "      <td>South</td>\n",
       "      <td>TEC-MA-10003626</td>\n",
       "      <td>Technology</td>\n",
       "      <td>Machines</td>\n",
       "      <td>Hewlett-Packard Deskjet 6540 Color Inkjet Printer</td>\n",
       "      <td>821.300</td>\n",
       "    </tr>\n",
       "    <tr>\n",
       "      <th>2015-03-18</th>\n",
       "      <td>2698</td>\n",
       "      <td>CA-2015-145317</td>\n",
       "      <td>23/03/2015</td>\n",
       "      <td>Standard Class</td>\n",
       "      <td>SM-20320</td>\n",
       "      <td>Sean Miller</td>\n",
       "      <td>Home Office</td>\n",
       "      <td>United States</td>\n",
       "      <td>Jacksonville</td>\n",
       "      <td>Florida</td>\n",
       "      <td>32216.0</td>\n",
       "      <td>South</td>\n",
       "      <td>TEC-MA-10002412</td>\n",
       "      <td>Technology</td>\n",
       "      <td>Machines</td>\n",
       "      <td>Cisco TelePresence System EX90 Videoconferenci...</td>\n",
       "      <td>22638.480</td>\n",
       "    </tr>\n",
       "    <tr>\n",
       "      <th>2015-03-18</th>\n",
       "      <td>2699</td>\n",
       "      <td>CA-2015-145317</td>\n",
       "      <td>23/03/2015</td>\n",
       "      <td>Standard Class</td>\n",
       "      <td>SM-20320</td>\n",
       "      <td>Sean Miller</td>\n",
       "      <td>Home Office</td>\n",
       "      <td>United States</td>\n",
       "      <td>Jacksonville</td>\n",
       "      <td>Florida</td>\n",
       "      <td>32216.0</td>\n",
       "      <td>South</td>\n",
       "      <td>OFF-PA-10001804</td>\n",
       "      <td>Office Supplies</td>\n",
       "      <td>Paper</td>\n",
       "      <td>Xerox 195</td>\n",
       "      <td>21.376</td>\n",
       "    </tr>\n",
       "    <tr>\n",
       "      <th>2015-03-18</th>\n",
       "      <td>2700</td>\n",
       "      <td>CA-2015-145317</td>\n",
       "      <td>23/03/2015</td>\n",
       "      <td>Standard Class</td>\n",
       "      <td>SM-20320</td>\n",
       "      <td>Sean Miller</td>\n",
       "      <td>Home Office</td>\n",
       "      <td>United States</td>\n",
       "      <td>Jacksonville</td>\n",
       "      <td>Florida</td>\n",
       "      <td>32216.0</td>\n",
       "      <td>South</td>\n",
       "      <td>OFF-AR-10003183</td>\n",
       "      <td>Office Supplies</td>\n",
       "      <td>Art</td>\n",
       "      <td>Avery Fluorescent Highlighter Four-Color Set</td>\n",
       "      <td>8.016</td>\n",
       "    </tr>\n",
       "    <tr>\n",
       "      <th>2015-03-18</th>\n",
       "      <td>2701</td>\n",
       "      <td>CA-2015-145317</td>\n",
       "      <td>23/03/2015</td>\n",
       "      <td>Standard Class</td>\n",
       "      <td>SM-20320</td>\n",
       "      <td>Sean Miller</td>\n",
       "      <td>Home Office</td>\n",
       "      <td>United States</td>\n",
       "      <td>Jacksonville</td>\n",
       "      <td>Florida</td>\n",
       "      <td>32216.0</td>\n",
       "      <td>South</td>\n",
       "      <td>FUR-FU-10004270</td>\n",
       "      <td>Furniture</td>\n",
       "      <td>Furnishings</td>\n",
       "      <td>Executive Impressions 13\" Clairmont Wall Clock</td>\n",
       "      <td>30.768</td>\n",
       "    </tr>\n",
       "    <tr>\n",
       "      <th>2015-03-18</th>\n",
       "      <td>2702</td>\n",
       "      <td>CA-2015-145317</td>\n",
       "      <td>23/03/2015</td>\n",
       "      <td>Standard Class</td>\n",
       "      <td>SM-20320</td>\n",
       "      <td>Sean Miller</td>\n",
       "      <td>Home Office</td>\n",
       "      <td>United States</td>\n",
       "      <td>Jacksonville</td>\n",
       "      <td>Florida</td>\n",
       "      <td>32216.0</td>\n",
       "      <td>South</td>\n",
       "      <td>OFF-FA-10003112</td>\n",
       "      <td>Office Supplies</td>\n",
       "      <td>Fasteners</td>\n",
       "      <td>Staples</td>\n",
       "      <td>18.936</td>\n",
       "    </tr>\n",
       "    <tr>\n",
       "      <th>2015-03-18</th>\n",
       "      <td>2703</td>\n",
       "      <td>CA-2015-145317</td>\n",
       "      <td>23/03/2015</td>\n",
       "      <td>Standard Class</td>\n",
       "      <td>SM-20320</td>\n",
       "      <td>Sean Miller</td>\n",
       "      <td>Home Office</td>\n",
       "      <td>United States</td>\n",
       "      <td>Jacksonville</td>\n",
       "      <td>Florida</td>\n",
       "      <td>32216.0</td>\n",
       "      <td>South</td>\n",
       "      <td>FUR-FU-10001986</td>\n",
       "      <td>Furniture</td>\n",
       "      <td>Furnishings</td>\n",
       "      <td>Dana Fluorescent Magnifying Lamp, White, 36\"</td>\n",
       "      <td>122.352</td>\n",
       "    </tr>\n",
       "  </tbody>\n",
       "</table>\n",
       "</div>"
      ],
      "text/plain": [
       "            Row ID        Order ID   Ship Date       Ship Mode Customer ID  \\\n",
       "Order Date                                                                   \n",
       "2015-03-18    2697  CA-2015-145317  23/03/2015  Standard Class    SM-20320   \n",
       "2015-03-18    2698  CA-2015-145317  23/03/2015  Standard Class    SM-20320   \n",
       "2015-03-18    2699  CA-2015-145317  23/03/2015  Standard Class    SM-20320   \n",
       "2015-03-18    2700  CA-2015-145317  23/03/2015  Standard Class    SM-20320   \n",
       "2015-03-18    2701  CA-2015-145317  23/03/2015  Standard Class    SM-20320   \n",
       "2015-03-18    2702  CA-2015-145317  23/03/2015  Standard Class    SM-20320   \n",
       "2015-03-18    2703  CA-2015-145317  23/03/2015  Standard Class    SM-20320   \n",
       "\n",
       "           Customer Name      Segment        Country          City    State  \\\n",
       "Order Date                                                                    \n",
       "2015-03-18   Sean Miller  Home Office  United States  Jacksonville  Florida   \n",
       "2015-03-18   Sean Miller  Home Office  United States  Jacksonville  Florida   \n",
       "2015-03-18   Sean Miller  Home Office  United States  Jacksonville  Florida   \n",
       "2015-03-18   Sean Miller  Home Office  United States  Jacksonville  Florida   \n",
       "2015-03-18   Sean Miller  Home Office  United States  Jacksonville  Florida   \n",
       "2015-03-18   Sean Miller  Home Office  United States  Jacksonville  Florida   \n",
       "2015-03-18   Sean Miller  Home Office  United States  Jacksonville  Florida   \n",
       "\n",
       "            Postal Code Region       Product ID         Category Sub-Category  \\\n",
       "Order Date                                                                      \n",
       "2015-03-18      32216.0  South  TEC-MA-10003626       Technology     Machines   \n",
       "2015-03-18      32216.0  South  TEC-MA-10002412       Technology     Machines   \n",
       "2015-03-18      32216.0  South  OFF-PA-10001804  Office Supplies        Paper   \n",
       "2015-03-18      32216.0  South  OFF-AR-10003183  Office Supplies          Art   \n",
       "2015-03-18      32216.0  South  FUR-FU-10004270        Furniture  Furnishings   \n",
       "2015-03-18      32216.0  South  OFF-FA-10003112  Office Supplies    Fasteners   \n",
       "2015-03-18      32216.0  South  FUR-FU-10001986        Furniture  Furnishings   \n",
       "\n",
       "                                                 Product Name      Sales  \n",
       "Order Date                                                                \n",
       "2015-03-18  Hewlett-Packard Deskjet 6540 Color Inkjet Printer    821.300  \n",
       "2015-03-18  Cisco TelePresence System EX90 Videoconferenci...  22638.480  \n",
       "2015-03-18                                          Xerox 195     21.376  \n",
       "2015-03-18       Avery Fluorescent Highlighter Four-Color Set      8.016  \n",
       "2015-03-18     Executive Impressions 13\" Clairmont Wall Clock     30.768  \n",
       "2015-03-18                                            Staples     18.936  \n",
       "2015-03-18       Dana Fluorescent Magnifying Lamp, White, 36\"    122.352  "
      ]
     },
     "execution_count": 8,
     "metadata": {},
     "output_type": "execute_result"
    }
   ],
   "source": [
    "florida = df[df['State'] == 'Florida']\n",
    "florida.loc[florida['Ship Date']  == '23/03/2015']"
   ]
  },
  {
   "cell_type": "code",
   "execution_count": 9,
   "id": "24f25d76",
   "metadata": {},
   "outputs": [
    {
     "data": {
      "text/html": [
       "<div>\n",
       "<style scoped>\n",
       "    .dataframe tbody tr th:only-of-type {\n",
       "        vertical-align: middle;\n",
       "    }\n",
       "\n",
       "    .dataframe tbody tr th {\n",
       "        vertical-align: top;\n",
       "    }\n",
       "\n",
       "    .dataframe thead th {\n",
       "        text-align: right;\n",
       "    }\n",
       "</style>\n",
       "<table border=\"1\" class=\"dataframe\">\n",
       "  <thead>\n",
       "    <tr style=\"text-align: right;\">\n",
       "      <th></th>\n",
       "      <th>Row ID</th>\n",
       "      <th>Order ID</th>\n",
       "      <th>Ship Date</th>\n",
       "      <th>Ship Mode</th>\n",
       "      <th>Customer ID</th>\n",
       "      <th>Customer Name</th>\n",
       "      <th>Segment</th>\n",
       "      <th>Country</th>\n",
       "      <th>City</th>\n",
       "      <th>State</th>\n",
       "      <th>Postal Code</th>\n",
       "      <th>Region</th>\n",
       "      <th>Product ID</th>\n",
       "      <th>Category</th>\n",
       "      <th>Sub-Category</th>\n",
       "      <th>Product Name</th>\n",
       "      <th>Sales</th>\n",
       "    </tr>\n",
       "    <tr>\n",
       "      <th>Order Date</th>\n",
       "      <th></th>\n",
       "      <th></th>\n",
       "      <th></th>\n",
       "      <th></th>\n",
       "      <th></th>\n",
       "      <th></th>\n",
       "      <th></th>\n",
       "      <th></th>\n",
       "      <th></th>\n",
       "      <th></th>\n",
       "      <th></th>\n",
       "      <th></th>\n",
       "      <th></th>\n",
       "      <th></th>\n",
       "      <th></th>\n",
       "      <th></th>\n",
       "      <th></th>\n",
       "    </tr>\n",
       "  </thead>\n",
       "  <tbody>\n",
       "    <tr>\n",
       "      <th>2017-07-23</th>\n",
       "      <td>836</td>\n",
       "      <td>CA-2017-165316</td>\n",
       "      <td>27/07/2017</td>\n",
       "      <td>Standard Class</td>\n",
       "      <td>JB-15400</td>\n",
       "      <td>Jennifer Braxton</td>\n",
       "      <td>Corporate</td>\n",
       "      <td>United States</td>\n",
       "      <td>Tampa</td>\n",
       "      <td>Florida</td>\n",
       "      <td>33614.0</td>\n",
       "      <td>South</td>\n",
       "      <td>TEC-MA-10004002</td>\n",
       "      <td>Technology</td>\n",
       "      <td>Machines</td>\n",
       "      <td>Zebra GX420t Direct Thermal/Thermal Transfer P...</td>\n",
       "      <td>265.475</td>\n",
       "    </tr>\n",
       "    <tr>\n",
       "      <th>2015-03-18</th>\n",
       "      <td>2697</td>\n",
       "      <td>CA-2015-145317</td>\n",
       "      <td>23/03/2015</td>\n",
       "      <td>Standard Class</td>\n",
       "      <td>SM-20320</td>\n",
       "      <td>Sean Miller</td>\n",
       "      <td>Home Office</td>\n",
       "      <td>United States</td>\n",
       "      <td>Jacksonville</td>\n",
       "      <td>Florida</td>\n",
       "      <td>32216.0</td>\n",
       "      <td>South</td>\n",
       "      <td>TEC-MA-10003626</td>\n",
       "      <td>Technology</td>\n",
       "      <td>Machines</td>\n",
       "      <td>Hewlett-Packard Deskjet 6540 Color Inkjet Printer</td>\n",
       "      <td>821.300</td>\n",
       "    </tr>\n",
       "    <tr>\n",
       "      <th>2015-03-18</th>\n",
       "      <td>2698</td>\n",
       "      <td>CA-2015-145317</td>\n",
       "      <td>23/03/2015</td>\n",
       "      <td>Standard Class</td>\n",
       "      <td>SM-20320</td>\n",
       "      <td>Sean Miller</td>\n",
       "      <td>Home Office</td>\n",
       "      <td>United States</td>\n",
       "      <td>Jacksonville</td>\n",
       "      <td>Florida</td>\n",
       "      <td>32216.0</td>\n",
       "      <td>South</td>\n",
       "      <td>TEC-MA-10002412</td>\n",
       "      <td>Technology</td>\n",
       "      <td>Machines</td>\n",
       "      <td>Cisco TelePresence System EX90 Videoconferenci...</td>\n",
       "      <td>22638.480</td>\n",
       "    </tr>\n",
       "    <tr>\n",
       "      <th>2017-09-06</th>\n",
       "      <td>2839</td>\n",
       "      <td>CA-2017-147368</td>\n",
       "      <td>12/6/2017</td>\n",
       "      <td>First Class</td>\n",
       "      <td>TC-21295</td>\n",
       "      <td>Toby Carlisle</td>\n",
       "      <td>Consumer</td>\n",
       "      <td>United States</td>\n",
       "      <td>Tallahassee</td>\n",
       "      <td>Florida</td>\n",
       "      <td>32303.0</td>\n",
       "      <td>South</td>\n",
       "      <td>TEC-MA-10002178</td>\n",
       "      <td>Technology</td>\n",
       "      <td>Machines</td>\n",
       "      <td>Cisco CP-7937G Unified IP Conference Station P...</td>\n",
       "      <td>695.700</td>\n",
       "    </tr>\n",
       "    <tr>\n",
       "      <th>2016-11-22</th>\n",
       "      <td>5759</td>\n",
       "      <td>CA-2016-149300</td>\n",
       "      <td>23/11/2016</td>\n",
       "      <td>First Class</td>\n",
       "      <td>BH-11710</td>\n",
       "      <td>Brosina Hoffman</td>\n",
       "      <td>Consumer</td>\n",
       "      <td>United States</td>\n",
       "      <td>Hialeah</td>\n",
       "      <td>Florida</td>\n",
       "      <td>33012.0</td>\n",
       "      <td>South</td>\n",
       "      <td>TEC-MA-10000423</td>\n",
       "      <td>Technology</td>\n",
       "      <td>Machines</td>\n",
       "      <td>Texas Instruments TI-34 Scientific Calculator</td>\n",
       "      <td>32.985</td>\n",
       "    </tr>\n",
       "    <tr>\n",
       "      <th>2018-12-25</th>\n",
       "      <td>8958</td>\n",
       "      <td>CA-2018-105620</td>\n",
       "      <td>28/12/2018</td>\n",
       "      <td>First Class</td>\n",
       "      <td>JH-15430</td>\n",
       "      <td>Jennifer Halladay</td>\n",
       "      <td>Consumer</td>\n",
       "      <td>United States</td>\n",
       "      <td>Hialeah</td>\n",
       "      <td>Florida</td>\n",
       "      <td>33012.0</td>\n",
       "      <td>South</td>\n",
       "      <td>TEC-MA-10004626</td>\n",
       "      <td>Technology</td>\n",
       "      <td>Machines</td>\n",
       "      <td>Lexmark 20R1285 X6650 Wireless All-in-One Printer</td>\n",
       "      <td>120.000</td>\n",
       "    </tr>\n",
       "  </tbody>\n",
       "</table>\n",
       "</div>"
      ],
      "text/plain": [
       "            Row ID        Order ID   Ship Date       Ship Mode Customer ID  \\\n",
       "Order Date                                                                   \n",
       "2017-07-23     836  CA-2017-165316  27/07/2017  Standard Class    JB-15400   \n",
       "2015-03-18    2697  CA-2015-145317  23/03/2015  Standard Class    SM-20320   \n",
       "2015-03-18    2698  CA-2015-145317  23/03/2015  Standard Class    SM-20320   \n",
       "2017-09-06    2839  CA-2017-147368   12/6/2017     First Class    TC-21295   \n",
       "2016-11-22    5759  CA-2016-149300  23/11/2016     First Class    BH-11710   \n",
       "2018-12-25    8958  CA-2018-105620  28/12/2018     First Class    JH-15430   \n",
       "\n",
       "                Customer Name      Segment        Country          City  \\\n",
       "Order Date                                                                \n",
       "2017-07-23   Jennifer Braxton    Corporate  United States         Tampa   \n",
       "2015-03-18        Sean Miller  Home Office  United States  Jacksonville   \n",
       "2015-03-18        Sean Miller  Home Office  United States  Jacksonville   \n",
       "2017-09-06      Toby Carlisle     Consumer  United States   Tallahassee   \n",
       "2016-11-22    Brosina Hoffman     Consumer  United States       Hialeah   \n",
       "2018-12-25  Jennifer Halladay     Consumer  United States       Hialeah   \n",
       "\n",
       "              State  Postal Code Region       Product ID    Category  \\\n",
       "Order Date                                                             \n",
       "2017-07-23  Florida      33614.0  South  TEC-MA-10004002  Technology   \n",
       "2015-03-18  Florida      32216.0  South  TEC-MA-10003626  Technology   \n",
       "2015-03-18  Florida      32216.0  South  TEC-MA-10002412  Technology   \n",
       "2017-09-06  Florida      32303.0  South  TEC-MA-10002178  Technology   \n",
       "2016-11-22  Florida      33012.0  South  TEC-MA-10000423  Technology   \n",
       "2018-12-25  Florida      33012.0  South  TEC-MA-10004626  Technology   \n",
       "\n",
       "           Sub-Category                                       Product Name  \\\n",
       "Order Date                                                                   \n",
       "2017-07-23     Machines  Zebra GX420t Direct Thermal/Thermal Transfer P...   \n",
       "2015-03-18     Machines  Hewlett-Packard Deskjet 6540 Color Inkjet Printer   \n",
       "2015-03-18     Machines  Cisco TelePresence System EX90 Videoconferenci...   \n",
       "2017-09-06     Machines  Cisco CP-7937G Unified IP Conference Station P...   \n",
       "2016-11-22     Machines      Texas Instruments TI-34 Scientific Calculator   \n",
       "2018-12-25     Machines  Lexmark 20R1285 X6650 Wireless All-in-One Printer   \n",
       "\n",
       "                Sales  \n",
       "Order Date             \n",
       "2017-07-23    265.475  \n",
       "2015-03-18    821.300  \n",
       "2015-03-18  22638.480  \n",
       "2017-09-06    695.700  \n",
       "2016-11-22     32.985  \n",
       "2018-12-25    120.000  "
      ]
     },
     "execution_count": 9,
     "metadata": {},
     "output_type": "execute_result"
    }
   ],
   "source": [
    "florida.loc[florida['Sub-Category']  == 'Machines']"
   ]
  },
  {
   "cell_type": "code",
   "execution_count": 10,
   "id": "a0a1334b",
   "metadata": {},
   "outputs": [],
   "source": [
    "# from the above two dataset we can easily determine that this is an outlier therefore we need to remove it "
   ]
  },
  {
   "cell_type": "code",
   "execution_count": 11,
   "id": "e9aec365",
   "metadata": {},
   "outputs": [
    {
     "data": {
      "text/plain": [
       "count     9799.000000\n",
       "mean       228.482325\n",
       "std        584.364362\n",
       "min          0.444000\n",
       "25%         17.248000\n",
       "50%         54.480000\n",
       "75%        210.572000\n",
       "max      17499.950000\n",
       "Name: Sales, dtype: float64"
      ]
     },
     "execution_count": 11,
     "metadata": {},
     "output_type": "execute_result"
    }
   ],
   "source": [
    "new_df = df[df['Sales'] < 18000]\n",
    "new_df['Sales'].describe()"
   ]
  },
  {
   "cell_type": "code",
   "execution_count": 12,
   "id": "8a5483b1",
   "metadata": {},
   "outputs": [
    {
     "data": {
      "text/plain": [
       "(9799, 17)"
      ]
     },
     "execution_count": 12,
     "metadata": {},
     "output_type": "execute_result"
    }
   ],
   "source": [
    "new_df.shape"
   ]
  },
  {
   "cell_type": "code",
   "execution_count": 13,
   "id": "41b9ff48",
   "metadata": {},
   "outputs": [
    {
     "data": {
      "text/plain": [
       "array([42420., 90036., 33311., 90032., 28027., 98103., 76106., 53711.,\n",
       "       84084., 94109., 68025., 19140., 84057., 90049., 77095., 75080.,\n",
       "       77041., 60540., 32935., 55122., 48185., 19901., 47150., 10024.,\n",
       "       12180., 90004., 60610., 85234., 22153., 10009., 49201., 38109.,\n",
       "       77070., 35601., 94122., 27707., 60623., 29203., 55901., 55407.,\n",
       "       97206., 55106., 80013., 28205., 60462., 10035., 50322., 43229.,\n",
       "       37620., 19805., 61701., 85023., 95661., 64055., 91104., 43055.,\n",
       "       53132., 85254., 95123., 98105., 98115., 73034., 90045., 19134.,\n",
       "       88220., 78207., 77036., 62521., 71203.,  6824., 75051., 92374.,\n",
       "       45011.,  7090., 19120., 44312., 80219., 75220., 37064., 90604.,\n",
       "       48601., 44256., 43017., 48227., 38401., 33614., 95051., 55044.,\n",
       "       92037., 77506., 94513., 27514.,  7960., 45231., 94110., 90301.,\n",
       "       33319., 80906.,  7109., 48180.,  8701., 22204., 80004.,  7601.,\n",
       "       33710., 19143., 90805., 92345., 37130., 84041., 78745.,  1852.,\n",
       "       31907.,  6040., 78550., 85705., 62301.,  2038., 33024., 98198.,\n",
       "       61604., 89115.,  2886., 33180., 28403., 92646., 40475., 80027.,\n",
       "        1841., 39212., 48187., 10801., 28052., 32216., 47201., 13021.,\n",
       "       73071., 94521., 60068., 79109., 11757., 90008., 92024., 77340.,\n",
       "       14609., 72701., 92627., 80134., 30318., 64118., 59405., 48234.,\n",
       "       33801., 36116., 85204., 60653., 54302., 45503., 92804., 98270.,\n",
       "       97301., 78041., 75217., 43123., 10011., 48126., 31088., 94591.,\n",
       "       92691., 48307.,  7060., 85635., 98661., 60505., 76017., 40214.,\n",
       "       75081., 44105., 75701., 27217., 22980., 19013., 27511., 32137.,\n",
       "       10550., 48205., 33012., 11572., 92105., 60201., 48183., 55016.,\n",
       "       71111., 50315., 93534., 23223., 28806., 92530., 68104., 98026.,\n",
       "       92704., 53209., 41042., 44052.,  7036., 93905.,  8901., 17602.,\n",
       "        3301., 21044., 75043.,  6360., 22304., 43615., 87401., 92503.,\n",
       "       90503., 78664., 92054., 33433., 23464., 92563., 28540., 52601.,\n",
       "       98502., 20016., 65109., 63376., 61107., 33142., 78521., 10701.,\n",
       "       94601., 28110., 20735., 30076., 72401., 47374., 94509., 33030.,\n",
       "       46350., 48911., 44221., 89502., 22801., 92025., 48073., 20852.,\n",
       "       33065., 14215., 33437., 39503., 93727., 27834., 11561., 35630.,\n",
       "       31204., 52402.,  2908., 81001., 94533., 32725., 42071.,  6457.,\n",
       "       11520., 90660., 84604., 84062., 30080., 24153., 44134., 36608.,\n",
       "        2740., 75061.,  8360., 85301., 14304., 27360., 92683., 38301.,\n",
       "       75019., 91767., 89031., 18103., 19711., 85281., 92677.,  8302.,\n",
       "        2149., 13601., 54915., 98006., 75002., 79907., 76051., 75007.,\n",
       "       37167., 98031., 70506., 97224., 60076., 75023., 23434., 46203.,\n",
       "        7002., 28314., 27405., 21215., 53142., 66062., 98002., 74133.,\n",
       "       97756., 27604., 74403.,  6450., 42104., 46614.,  6010., 89015.,\n",
       "       99207., 76248., 45014., 32127., 97504., 22901., 59801., 33178.,\n",
       "       29501., 97477., 32712., 19601., 80020., 65807.,  7501., 73120.,\n",
       "       23320., 79424., 65203., 37604., 36830., 92404.,  1453., 59715.,\n",
       "       85345., 44107.,  8861., 91761., 91730., 56560., 75150., 95207.,\n",
       "       32174., 94086.,  3820., 17403., 77840., 63116.,  2169., 95336.,\n",
       "       44240., 76903., 84106., 35810., 37918., 72209., 48146., 43302.,\n",
       "       80122.,    nan,  4401., 38671., 47362., 48640., 57103., 80525.,\n",
       "       47905., 37042., 95823., 91360.,  2148.,  1040., 87105., 89431.,\n",
       "       92236., 60126.,  7055., 29406., 23602., 14701., 46544., 43402.,\n",
       "       92253., 32303., 37211., 98226., 60098., 76117., 60090., 29483.,\n",
       "       71901., 80112., 43130., 88001., 35244., 75034., 95687., 84107.,\n",
       "       53186., 93309., 33068., 45373., 78415., 90278., 32839.,  7050.,\n",
       "       70601., 60035., 11550., 46060., 55124., 29464., 48310., 54703.,\n",
       "       78577., 59102., 97030., 37421., 83642., 92307., 60440., 55369.,\n",
       "       95695., 77489., 77581., 94403., 49505., 93277., 66212., 92592.,\n",
       "       92399.,  2151., 77301., 60477., 52001., 48127., 87505., 28601.,\n",
       "       60188., 56301., 33161., 46226., 33317., 34952., 29730., 79762.,\n",
       "       53214., 91911., 66502., 16602., 80229., 61821., 47401., 71854.,\n",
       "       78539., 77520., 46142., 90712.,  2895., 54880., 76021., 98042.,\n",
       "       74012., 33023., 33021., 77536., 67212., 78501., 52240., 83704.,\n",
       "        2920., 61032., 77642., 95610., 75056., 98052., 32114., 86442.,\n",
       "       46368., 58103., 46514., 91776., 33063., 30328., 44060., 73505.,\n",
       "       23666., 13440., 54601., 83501., 39401., 94526., 48858., 84321.,\n",
       "        6708., 30605.,  4240., 61832., 85323., 30062., 85364., 54401.,\n",
       "       99301., 60302., 32503., 77573., 20877., 84043., 35401., 92553.,\n",
       "       40324., 80538., 85224., 59601., 63122., 76706., 48066., 60423.,\n",
       "       18018., 55113., 68801., 55125., 48237., 72756., 88101., 33458.,\n",
       "       93101., 75104., 68701., 84020., 48104., 91941., 83201., 49423.,\n",
       "        6460., 60089., 92630., 96003., 95928., 13501., 72032., 82001.,\n",
       "       42301., 83605., 70065.,  3060., 38134., 94061., 37087., 93454.,\n",
       "       60016., 98632., 37075., 50701.,  2138., 60067.,  1915., 97405.,\n",
       "       93030., 98059., 60025., 33445., 80022., 77590., 27893., 87124.,\n",
       "       27534., 98208., 90640., 92020., 77705., 33407., 79605., 61761.,\n",
       "       63301., 60174., 93010., 97123., 91505., 95351., 67846.,  8401.,\n",
       "       80501., 95616., 26003., 95037.,  7011., 53081., 30344., 57701.,\n",
       "        1810., 34741.,  6484.,  6810., 52302., 32771., 78666., 80634.,\n",
       "       76063., 44035., 83301., 33134., 60441.,  1752., 20707., 77803.,\n",
       "       71603., 57401., 21740.,  7017., 60004., 60543., 55433., 92672.,\n",
       "       94568., 93405., 72762.])"
      ]
     },
     "execution_count": 13,
     "metadata": {},
     "output_type": "execute_result"
    }
   ],
   "source": [
    "new_df['Postal Code'].unique()"
   ]
  },
  {
   "cell_type": "code",
   "execution_count": 14,
   "id": "6687cd9e",
   "metadata": {},
   "outputs": [
    {
     "data": {
      "text/plain": [
       "Row ID            0\n",
       "Order ID          0\n",
       "Ship Date         0\n",
       "Ship Mode         0\n",
       "Customer ID       0\n",
       "Customer Name     0\n",
       "Segment           0\n",
       "Country           0\n",
       "City              0\n",
       "State             0\n",
       "Postal Code      11\n",
       "Region            0\n",
       "Product ID        0\n",
       "Category          0\n",
       "Sub-Category      0\n",
       "Product Name      0\n",
       "Sales             0\n",
       "dtype: int64"
      ]
     },
     "execution_count": 14,
     "metadata": {},
     "output_type": "execute_result"
    }
   ],
   "source": [
    "new_df.isnull().sum()"
   ]
  },
  {
   "cell_type": "code",
   "execution_count": 39,
   "id": "ac5ad6db",
   "metadata": {},
   "outputs": [],
   "source": [
    "new_df = new_df.dropna()"
   ]
  },
  {
   "cell_type": "code",
   "execution_count": 41,
   "id": "809a0ada",
   "metadata": {},
   "outputs": [
    {
     "data": {
      "text/plain": [
       "Row ID           0\n",
       "Order ID         0\n",
       "Ship Date        0\n",
       "Ship Mode        0\n",
       "Customer ID      0\n",
       "Customer Name    0\n",
       "Segment          0\n",
       "Country          0\n",
       "City             0\n",
       "State            0\n",
       "Postal Code      0\n",
       "Region           0\n",
       "Product ID       0\n",
       "Category         0\n",
       "Sub-Category     0\n",
       "Product Name     0\n",
       "Sales            0\n",
       "dtype: int64"
      ]
     },
     "execution_count": 41,
     "metadata": {},
     "output_type": "execute_result"
    }
   ],
   "source": [
    "new_df.isnull().sum()"
   ]
  },
  {
   "cell_type": "code",
   "execution_count": 43,
   "id": "979b6325",
   "metadata": {},
   "outputs": [
    {
     "data": {
      "text/plain": [
       "(9788, 17)"
      ]
     },
     "execution_count": 43,
     "metadata": {},
     "output_type": "execute_result"
    }
   ],
   "source": [
    "new_df.shape"
   ]
  },
  {
   "cell_type": "code",
   "execution_count": 47,
   "id": "d79ed647",
   "metadata": {},
   "outputs": [
    {
     "data": {
      "text/html": [
       "<div>\n",
       "<style scoped>\n",
       "    .dataframe tbody tr th:only-of-type {\n",
       "        vertical-align: middle;\n",
       "    }\n",
       "\n",
       "    .dataframe tbody tr th {\n",
       "        vertical-align: top;\n",
       "    }\n",
       "\n",
       "    .dataframe thead th {\n",
       "        text-align: right;\n",
       "    }\n",
       "</style>\n",
       "<table border=\"1\" class=\"dataframe\">\n",
       "  <thead>\n",
       "    <tr style=\"text-align: right;\">\n",
       "      <th></th>\n",
       "      <th>Row ID</th>\n",
       "      <th>Order ID</th>\n",
       "      <th>Ship Date</th>\n",
       "      <th>Ship Mode</th>\n",
       "      <th>Customer ID</th>\n",
       "      <th>Customer Name</th>\n",
       "      <th>Segment</th>\n",
       "      <th>Country</th>\n",
       "      <th>City</th>\n",
       "      <th>State</th>\n",
       "      <th>Postal Code</th>\n",
       "      <th>Region</th>\n",
       "      <th>Product ID</th>\n",
       "      <th>Category</th>\n",
       "      <th>Sub-Category</th>\n",
       "      <th>Product Name</th>\n",
       "      <th>Sales</th>\n",
       "    </tr>\n",
       "    <tr>\n",
       "      <th>Order Date</th>\n",
       "      <th></th>\n",
       "      <th></th>\n",
       "      <th></th>\n",
       "      <th></th>\n",
       "      <th></th>\n",
       "      <th></th>\n",
       "      <th></th>\n",
       "      <th></th>\n",
       "      <th></th>\n",
       "      <th></th>\n",
       "      <th></th>\n",
       "      <th></th>\n",
       "      <th></th>\n",
       "      <th></th>\n",
       "      <th></th>\n",
       "      <th></th>\n",
       "      <th></th>\n",
       "    </tr>\n",
       "  </thead>\n",
       "  <tbody>\n",
       "    <tr>\n",
       "      <th>2017-08-11</th>\n",
       "      <td>1</td>\n",
       "      <td>CA-2017-152156</td>\n",
       "      <td>11/11/2017</td>\n",
       "      <td>Second Class</td>\n",
       "      <td>CG-12520</td>\n",
       "      <td>Claire Gute</td>\n",
       "      <td>Consumer</td>\n",
       "      <td>United States</td>\n",
       "      <td>Henderson</td>\n",
       "      <td>Kentucky</td>\n",
       "      <td>42420.0</td>\n",
       "      <td>South</td>\n",
       "      <td>FUR-BO-10001798</td>\n",
       "      <td>Furniture</td>\n",
       "      <td>Bookcases</td>\n",
       "      <td>Bush Somerset Collection Bookcase</td>\n",
       "      <td>261.96</td>\n",
       "    </tr>\n",
       "    <tr>\n",
       "      <th>2017-08-11</th>\n",
       "      <td>2</td>\n",
       "      <td>CA-2017-152156</td>\n",
       "      <td>11/11/2017</td>\n",
       "      <td>Second Class</td>\n",
       "      <td>CG-12520</td>\n",
       "      <td>Claire Gute</td>\n",
       "      <td>Consumer</td>\n",
       "      <td>United States</td>\n",
       "      <td>Henderson</td>\n",
       "      <td>Kentucky</td>\n",
       "      <td>42420.0</td>\n",
       "      <td>South</td>\n",
       "      <td>FUR-CH-10000454</td>\n",
       "      <td>Furniture</td>\n",
       "      <td>Chairs</td>\n",
       "      <td>Hon Deluxe Fabric Upholstered Stacking Chairs,...</td>\n",
       "      <td>731.94</td>\n",
       "    </tr>\n",
       "  </tbody>\n",
       "</table>\n",
       "</div>"
      ],
      "text/plain": [
       "            Row ID        Order ID   Ship Date     Ship Mode Customer ID  \\\n",
       "Order Date                                                                 \n",
       "2017-08-11       1  CA-2017-152156  11/11/2017  Second Class    CG-12520   \n",
       "2017-08-11       2  CA-2017-152156  11/11/2017  Second Class    CG-12520   \n",
       "\n",
       "           Customer Name   Segment        Country       City     State  \\\n",
       "Order Date                                                               \n",
       "2017-08-11   Claire Gute  Consumer  United States  Henderson  Kentucky   \n",
       "2017-08-11   Claire Gute  Consumer  United States  Henderson  Kentucky   \n",
       "\n",
       "            Postal Code Region       Product ID   Category Sub-Category  \\\n",
       "Order Date                                                                \n",
       "2017-08-11      42420.0  South  FUR-BO-10001798  Furniture    Bookcases   \n",
       "2017-08-11      42420.0  South  FUR-CH-10000454  Furniture       Chairs   \n",
       "\n",
       "                                                 Product Name   Sales  \n",
       "Order Date                                                             \n",
       "2017-08-11                  Bush Somerset Collection Bookcase  261.96  \n",
       "2017-08-11  Hon Deluxe Fabric Upholstered Stacking Chairs,...  731.94  "
      ]
     },
     "execution_count": 47,
     "metadata": {},
     "output_type": "execute_result"
    }
   ],
   "source": [
    "new_df.head(2)"
   ]
  },
  {
   "cell_type": "markdown",
   "id": "ba11f99f",
   "metadata": {},
   "source": [
    "Once all the outliers have been removed we shall check the category wise sales and the state wise sales as well"
   ]
  },
  {
   "cell_type": "code",
   "execution_count": null,
   "id": "106d4714",
   "metadata": {},
   "outputs": [],
   "source": [
    "011-61606161"
   ]
  },
  {
   "cell_type": "code",
   "execution_count": 56,
   "id": "624e6bab",
   "metadata": {},
   "outputs": [],
   "source": [
    "state = new_df.groupby('State')['Sales'].sum().sort_values(ascending = False)\n"
   ]
  },
  {
   "cell_type": "code",
   "execution_count": 57,
   "id": "0fbced98",
   "metadata": {},
   "outputs": [
    {
     "data": {
      "text/plain": [
       "<AxesSubplot:xlabel='State'>"
      ]
     },
     "execution_count": 57,
     "metadata": {},
     "output_type": "execute_result"
    },
    {
     "data": {
      "image/png": "[encoded data removed]",
      "text/plain": [
       "<Figure size 1080x720 with 1 Axes>"
      ]
     },
     "metadata": {
      "needs_background": "light"
     },
     "output_type": "display_data"
    }
   ],
   "source": [
    "plt.figure(figsize=(15,10))\n",
    "state.plot(kind = 'bar')"
   ]
  },
  {
   "cell_type": "code",
   "execution_count": 61,
   "id": "5abd3756",
   "metadata": {},
   "outputs": [],
   "source": [
    "region = new_df.groupby('Region')['Sales'].sum()#.sort_values(ascending = False)"
   ]
  },
  {
   "cell_type": "code",
   "execution_count": 62,
   "id": "47638684",
   "metadata": {},
   "outputs": [
    {
     "data": {
      "text/plain": [
       "<AxesSubplot:ylabel='Sales'>"
      ]
     },
     "execution_count": 62,
     "metadata": {},
     "output_type": "execute_result"
    },
    {
     "data": {
      "image/png": "[encoded data removed]",
      "text/plain": [
       "<Figure size 1080x360 with 1 Axes>"
      ]
     },
     "metadata": {},
     "output_type": "display_data"
    }
   ],
   "source": [
    "plt.figure(figsize=(15,5))\n",
    "region.plot(kind='pie')"
   ]
  },
  {
   "cell_type": "code",
   "execution_count": 92,
   "id": "7b8a1a7b",
   "metadata": {},
   "outputs": [
    {
     "data": {
      "text/plain": [
       "array(['Texas', 'Wisconsin', 'Nebraska', 'Illinois', 'Minnesota',\n",
       "       'Michigan', 'Indiana', 'Iowa', 'Missouri', 'Oklahoma', 'Kansas',\n",
       "       'South Dakota', 'North Dakota'], dtype=object)"
      ]
     },
     "execution_count": 92,
     "metadata": {},
     "output_type": "execute_result"
    }
   ],
   "source": [
    "Central = new_df[new_df['Region'] == 'Central']\n",
    "Central['State'].unique()"
   ]
  },
  {
   "cell_type": "code",
   "execution_count": 86,
   "id": "b8599650",
   "metadata": {},
   "outputs": [
    {
     "data": {
      "text/plain": [
       "<AxesSubplot:xlabel='Sub-Category'>"
      ]
     },
     "execution_count": 86,
     "metadata": {},
     "output_type": "execute_result"
    },
    {
     "data": {
      "image/png": "[encoded data removed]",
      "text/plain": [
       "<Figure size 1080x360 with 1 Axes>"
      ]
     },
     "metadata": {
      "needs_background": "light"
     },
     "output_type": "display_data"
    }
   ],
   "source": [
    "Central = new_df[new_df['Region'] == 'Central']\n",
    "plt.figure(figsize=(15,5))\n",
    "Central.groupby('Sub-Category')['Sales'].sum().plot(kind = 'bar')"
   ]
  },
  {
   "cell_type": "code",
   "execution_count": 97,
   "id": "d007fb96",
   "metadata": {},
   "outputs": [],
   "source": [
    "North_Dakota = new_df[new_df['State'] == 'North Dakota']"
   ]
  },
  {
   "cell_type": "code",
   "execution_count": 98,
   "id": "692c95dd",
   "metadata": {},
   "outputs": [
    {
     "data": {
      "text/plain": [
       "<AxesSubplot:xlabel='Sub-Category'>"
      ]
     },
     "execution_count": 98,
     "metadata": {},
     "output_type": "execute_result"
    },
    {
     "data": {
      "image/png": "[encoded data removed]",
      "text/plain": [
       "<Figure size 1080x360 with 1 Axes>"
      ]
     },
     "metadata": {
      "needs_background": "light"
     },
     "output_type": "display_data"
    }
   ],
   "source": [
    "plt.figure(figsize=(15,5))\n",
    "North_Dakota.groupby('Sub-Category')['Sales'].sum().plot(kind = 'bar')"
   ]
  },
  {
   "cell_type": "code",
   "execution_count": 87,
   "id": "7e890ee0",
   "metadata": {},
   "outputs": [
    {
     "data": {
      "text/plain": [
       "<AxesSubplot:xlabel='Sub-Category'>"
      ]
     },
     "execution_count": 87,
     "metadata": {},
     "output_type": "execute_result"
    },
    {
     "data": {
      "image/png": "[encoded data removed]",
      "text/plain": [
       "<Figure size 1080x360 with 1 Axes>"
      ]
     },
     "metadata": {
      "needs_background": "light"
     },
     "output_type": "display_data"
    }
   ],
   "source": [
    "East = new_df[new_df['Region'] == 'East']\n",
    "plt.figure(figsize=(15,5))\n",
    "East.groupby('Sub-Category')['Sales'].sum().plot(kind = 'bar')"
   ]
  },
  {
   "cell_type": "code",
   "execution_count": 99,
   "id": "dfb9320a",
   "metadata": {},
   "outputs": [
    {
     "data": {
      "text/plain": [
       "array(['California', 'Washington', 'Utah', 'Arizona', 'Oregon',\n",
       "       'Colorado', 'New Mexico', 'Nevada', 'Montana', 'Idaho', 'Wyoming'],\n",
       "      dtype=object)"
      ]
     },
     "execution_count": 99,
     "metadata": {},
     "output_type": "execute_result"
    }
   ],
   "source": [
    "West = new_df[new_df['Region'] == 'West']\n",
    "West['State'].unique()"
   ]
  },
  {
   "cell_type": "code",
   "execution_count": 88,
   "id": "e019bbe5",
   "metadata": {},
   "outputs": [
    {
     "data": {
      "text/plain": [
       "<AxesSubplot:xlabel='Sub-Category'>"
      ]
     },
     "execution_count": 88,
     "metadata": {},
     "output_type": "execute_result"
    },
    {
     "data": {
      "image/png": "[encoded data removed]",
      "text/plain": [
       "<Figure size 1080x360 with 1 Axes>"
      ]
     },
     "metadata": {
      "needs_background": "light"
     },
     "output_type": "display_data"
    }
   ],
   "source": [
    "West = new_df[new_df['Region'] == 'West']\n",
    "plt.figure(figsize=(15,5))\n",
    "West.groupby('Sub-Category')['Sales'].sum().plot(kind = 'bar')"
   ]
  },
  {
   "cell_type": "code",
   "execution_count": 100,
   "id": "d7893dca",
   "metadata": {},
   "outputs": [],
   "source": [
    "california = new_df[new_df['State'] == 'California']"
   ]
  },
  {
   "cell_type": "code",
   "execution_count": 101,
   "id": "3b747714",
   "metadata": {},
   "outputs": [
    {
     "data": {
      "text/plain": [
       "<AxesSubplot:xlabel='Sub-Category'>"
      ]
     },
     "execution_count": 101,
     "metadata": {},
     "output_type": "execute_result"
    },
    {
     "data": {
      "image/png": "[encoded data removed]",
      "text/plain": [
       "<Figure size 1080x360 with 1 Axes>"
      ]
     },
     "metadata": {
      "needs_background": "light"
     },
     "output_type": "display_data"
    }
   ],
   "source": [
    "plt.figure(figsize=(15,5))\n",
    "california.groupby('Sub-Category')['Sales'].sum().plot(kind = 'bar')"
   ]
  },
  {
   "cell_type": "code",
   "execution_count": 102,
   "id": "df8cf978",
   "metadata": {},
   "outputs": [
    {
     "data": {
      "text/plain": [
       "array(['Kentucky', 'Florida', 'North Carolina', 'Virginia', 'Tennessee',\n",
       "       'Alabama', 'South Carolina', 'Louisiana', 'Georgia', 'Mississippi',\n",
       "       'Arkansas'], dtype=object)"
      ]
     },
     "execution_count": 102,
     "metadata": {},
     "output_type": "execute_result"
    }
   ],
   "source": [
    "South = new_df[new_df['Region'] == 'South']\n",
    "South['State'].unique()"
   ]
  },
  {
   "cell_type": "code",
   "execution_count": 89,
   "id": "d2c01f75",
   "metadata": {},
   "outputs": [
    {
     "data": {
      "text/plain": [
       "<AxesSubplot:xlabel='Sub-Category'>"
      ]
     },
     "execution_count": 89,
     "metadata": {},
     "output_type": "execute_result"
    },
    {
     "data": {
      "image/png": "[encoded data removed]",
      "text/plain": [
       "<Figure size 1080x360 with 1 Axes>"
      ]
     },
     "metadata": {
      "needs_background": "light"
     },
     "output_type": "display_data"
    }
   ],
   "source": [
    "South = new_df[new_df['Region'] == 'South']\n",
    "plt.figure(figsize=(15,5))\n",
    "South.groupby('Sub-Category')['Sales'].sum().plot(kind = 'bar')"
   ]
  },
  {
   "cell_type": "code",
   "execution_count": 103,
   "id": "2cf2673c",
   "metadata": {},
   "outputs": [],
   "source": [
    "Florida = new_df[new_df['State'] == 'Florida']"
   ]
  },
  {
   "cell_type": "code",
   "execution_count": 104,
   "id": "4a525cb7",
   "metadata": {},
   "outputs": [
    {
     "data": {
      "text/plain": [
       "<AxesSubplot:xlabel='Sub-Category'>"
      ]
     },
     "execution_count": 104,
     "metadata": {},
     "output_type": "execute_result"
    },
    {
     "data": {
      "image/png": "[encoded data removed]",
      "text/plain": [
       "<Figure size 1080x360 with 1 Axes>"
      ]
     },
     "metadata": {
      "needs_background": "light"
     },
     "output_type": "display_data"
    }
   ],
   "source": [
    "plt.figure(figsize=(15,5))\n",
    "Florida.groupby('Sub-Category')['Sales'].sum().plot(kind='bar')"
   ]
  },
  {
   "cell_type": "code",
   "execution_count": 66,
   "id": "86431a7b",
   "metadata": {},
   "outputs": [],
   "source": [
    "Category = new_df.groupby('Sub-Category')['Sales'].sum().sort_values(ascending = False)"
   ]
  },
  {
   "cell_type": "code",
   "execution_count": 67,
   "id": "e8cc8b96",
   "metadata": {},
   "outputs": [
    {
     "data": {
      "text/plain": [
       "<AxesSubplot:xlabel='Sub-Category'>"
      ]
     },
     "execution_count": 67,
     "metadata": {},
     "output_type": "execute_result"
    },
    {
     "data": {
      "image/png": "[encoded data removed]",
      "text/plain": [
       "<Figure size 1080x360 with 1 Axes>"
      ]
     },
     "metadata": {
      "needs_background": "light"
     },
     "output_type": "display_data"
    }
   ],
   "source": [
    "plt.figure(figsize=(15,5))\n",
    "Category.plot(kind='bar')"
   ]
  },
  {
   "cell_type": "code",
   "execution_count": 120,
   "id": "21eb71a6",
   "metadata": {},
   "outputs": [
    {
     "data": {
      "text/plain": [
       "<AxesSubplot:xlabel='Order Date'>"
      ]
     },
     "execution_count": 120,
     "metadata": {},
     "output_type": "execute_result"
    },
    {
     "data": {
      "image/png": "[encoded data removed]",
      "text/plain": [
       "<Figure size 1080x360 with 1 Axes>"
      ]
     },
     "metadata": {
      "needs_background": "light"
     },
     "output_type": "display_data"
    }
   ],
   "source": [
    "plt.figure(figsize=(15,5))\n",
    "East['Sales'].resample('Q').mean().plot()"
   ]
  },
  {
   "cell_type": "code",
   "execution_count": 121,
   "id": "8bb0253d",
   "metadata": {},
   "outputs": [
    {
     "data": {
      "text/plain": [
       "<AxesSubplot:xlabel='Order Date'>"
      ]
     },
     "execution_count": 121,
     "metadata": {},
     "output_type": "execute_result"
    },
    {
     "data": {
      "image/png": "[encoded data removed]",
      "text/plain": [
       "<Figure size 1080x360 with 1 Axes>"
      ]
     },
     "metadata": {
      "needs_background": "light"
     },
     "output_type": "display_data"
    }
   ],
   "source": [
    "plt.figure(figsize=(15,5))\n",
    "West['Sales'].resample('Q').mean().plot()"
   ]
  },
  {
   "cell_type": "code",
   "execution_count": 122,
   "id": "bcce970a",
   "metadata": {},
   "outputs": [
    {
     "data": {
      "text/plain": [
       "<AxesSubplot:xlabel='Order Date'>"
      ]
     },
     "execution_count": 122,
     "metadata": {},
     "output_type": "execute_result"
    },
    {
     "data": {
      "image/png": "[encoded data removed]",
      "text/plain": [
       "<Figure size 1080x360 with 1 Axes>"
      ]
     },
     "metadata": {
      "needs_background": "light"
     },
     "output_type": "display_data"
    }
   ],
   "source": [
    "plt.figure(figsize=(15,5))\n",
    "Central['Sales'].resample('Q').mean().plot()"
   ]
  },
  {
   "cell_type": "code",
   "execution_count": 123,
   "id": "47c7bd66",
   "metadata": {},
   "outputs": [
    {
     "data": {
      "text/plain": [
       "<AxesSubplot:xlabel='Order Date'>"
      ]
     },
     "execution_count": 123,
     "metadata": {},
     "output_type": "execute_result"
    },
    {
     "data": {
      "image/png": "[encoded data removed]",
      "text/plain": [
       "<Figure size 1080x360 with 1 Axes>"
      ]
     },
     "metadata": {
      "needs_background": "light"
     },
     "output_type": "display_data"
    }
   ],
   "source": [
    "plt.figure(figsize=(15,5))\n",
    "South['Sales'].resample('Q').mean().plot()"
   ]
  },
  {
   "cell_type": "code",
   "execution_count": 135,
   "id": "a9eed216",
   "metadata": {},
   "outputs": [
    {
     "data": {
      "text/plain": [
       "<AxesSubplot:xlabel='Order Date'>"
      ]
     },
     "execution_count": 135,
     "metadata": {},
     "output_type": "execute_result"
    },
    {
     "data": {
      "image/png": "[encoded data removed]",
      "text/plain": [
       "<Figure size 1080x360 with 1 Axes>"
      ]
     },
     "metadata": {
      "needs_background": "light"
     },
     "output_type": "display_data"
    }
   ],
   "source": [
    "plt.figure(figsize=(15,5))\n",
    "South.loc['2015-09-30':'2016-03-31','Sales'].plot()"
   ]
  },
  {
   "cell_type": "markdown",
   "id": "3d053508",
   "metadata": {},
   "source": [
    "We can state that the sales in the beginning of the year has declined miserably "
   ]
  },
  {
   "cell_type": "code",
   "execution_count": null,
   "id": "c66d9935",
   "metadata": {},
   "outputs": [],
   "source": []
  }
 ],
 "metadata": {
  "kernelspec": {
   "display_name": "Python 3 (ipykernel)",
   "language": "python",
   "name": "python3"
  },
  "language_info": {
   "codemirror_mode": {
    "name": "ipython",
    "version": 3
   },
   "file_extension": ".py",
   "mimetype": "text/x-python",
   "name": "python",
   "nbconvert_exporter": "python",
   "pygments_lexer": "ipython3",
   "version": "3.10.1"
  }
 },
 "nbformat": 4,
 "nbformat_minor": 5
}
