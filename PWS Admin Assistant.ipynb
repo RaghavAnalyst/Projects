{
 "cells": [
  {
   "cell_type": "code",
   "execution_count": 1,
   "id": "20b3f0ba",
   "metadata": {},
   "outputs": [],
   "source": [
    "import pandas as pd\n",
    "import numpy as np\n",
    "import matplotlib.pyplot as plt\n",
    "import seaborn as sns\n",
    "#importing libraries for analysis and visualization"
   ]
  },
  {
   "cell_type": "code",
   "execution_count": 2,
   "id": "9bb010c2",
   "metadata": {},
   "outputs": [
    {
     "data": {
      "text/html": [
       "<div>\n",
       "<style scoped>\n",
       "    .dataframe tbody tr th:only-of-type {\n",
       "        vertical-align: middle;\n",
       "    }\n",
       "\n",
       "    .dataframe tbody tr th {\n",
       "        vertical-align: top;\n",
       "    }\n",
       "\n",
       "    .dataframe thead th {\n",
       "        text-align: right;\n",
       "    }\n",
       "</style>\n",
       "<table border=\"1\" class=\"dataframe\">\n",
       "  <thead>\n",
       "    <tr style=\"text-align: right;\">\n",
       "      <th></th>\n",
       "      <th>Name</th>\n",
       "      <th>Class_studying</th>\n",
       "      <th>Percentage_scored</th>\n",
       "      <th>Self_Study_hours</th>\n",
       "      <th>Residential Status</th>\n",
       "      <th>Favourite Food</th>\n",
       "      <th>How many Paranthas/Bhathuras/Cutltes do you prefer eating</th>\n",
       "      <th>Do you feel stressed quite often</th>\n",
       "      <th>When is the most number of times you feel you are stressed</th>\n",
       "      <th>Which extra co-curricular activites do you prefer spending your leisure time</th>\n",
       "    </tr>\n",
       "  </thead>\n",
       "  <tbody>\n",
       "    <tr>\n",
       "      <th>0</th>\n",
       "      <td>Aaditya Sharma</td>\n",
       "      <td>XII</td>\n",
       "      <td>94</td>\n",
       "      <td>3.5</td>\n",
       "      <td>Day-Scholar</td>\n",
       "      <td>Bread Cutlet</td>\n",
       "      <td>1</td>\n",
       "      <td>Yes</td>\n",
       "      <td>While appearing for the exams</td>\n",
       "      <td>Sports</td>\n",
       "    </tr>\n",
       "    <tr>\n",
       "      <th>1</th>\n",
       "      <td>Veenu Mehra</td>\n",
       "      <td>XII</td>\n",
       "      <td>93</td>\n",
       "      <td>4.0</td>\n",
       "      <td>Hosteler</td>\n",
       "      <td>Daliya</td>\n",
       "      <td>1</td>\n",
       "      <td>Yes</td>\n",
       "      <td>While appearing for the exams</td>\n",
       "      <td>Sports</td>\n",
       "    </tr>\n",
       "    <tr>\n",
       "      <th>2</th>\n",
       "      <td>Anjali Garg</td>\n",
       "      <td>XII</td>\n",
       "      <td>85</td>\n",
       "      <td>3.0</td>\n",
       "      <td>Day-Scholar</td>\n",
       "      <td>Bhathura</td>\n",
       "      <td>1</td>\n",
       "      <td>Yes</td>\n",
       "      <td>While giving a speech</td>\n",
       "      <td>Dancing</td>\n",
       "    </tr>\n",
       "    <tr>\n",
       "      <th>3</th>\n",
       "      <td>Rahul Mehra</td>\n",
       "      <td>XII</td>\n",
       "      <td>82</td>\n",
       "      <td>4.5</td>\n",
       "      <td>Hosteler</td>\n",
       "      <td>Daliya</td>\n",
       "      <td>2</td>\n",
       "      <td>Yes</td>\n",
       "      <td>While giving a speech</td>\n",
       "      <td>Theatre</td>\n",
       "    </tr>\n",
       "    <tr>\n",
       "      <th>4</th>\n",
       "      <td>Vishu Mahajan</td>\n",
       "      <td>XII</td>\n",
       "      <td>90</td>\n",
       "      <td>3.0</td>\n",
       "      <td>Day-Scholar</td>\n",
       "      <td>Bread Cutlet</td>\n",
       "      <td>2</td>\n",
       "      <td>Yes</td>\n",
       "      <td>While appearing for the exams</td>\n",
       "      <td>Sports</td>\n",
       "    </tr>\n",
       "    <tr>\n",
       "      <th>5</th>\n",
       "      <td>Aman Khurrana</td>\n",
       "      <td>XII</td>\n",
       "      <td>97</td>\n",
       "      <td>4.5</td>\n",
       "      <td>Hosteler</td>\n",
       "      <td>Aluu Parantha</td>\n",
       "      <td>2</td>\n",
       "      <td>No</td>\n",
       "      <td>NaN</td>\n",
       "      <td>Sports</td>\n",
       "    </tr>\n",
       "    <tr>\n",
       "      <th>6</th>\n",
       "      <td>Ajnala Singh</td>\n",
       "      <td>XII</td>\n",
       "      <td>81</td>\n",
       "      <td>3.5</td>\n",
       "      <td>Day-Scholar</td>\n",
       "      <td>Daliya</td>\n",
       "      <td>1</td>\n",
       "      <td>Yes</td>\n",
       "      <td>While giving a speech</td>\n",
       "      <td>Singing</td>\n",
       "    </tr>\n",
       "    <tr>\n",
       "      <th>7</th>\n",
       "      <td>Kusum Gupta</td>\n",
       "      <td>XII</td>\n",
       "      <td>89</td>\n",
       "      <td>3.0</td>\n",
       "      <td>Hosteler</td>\n",
       "      <td>Bread Cutlet</td>\n",
       "      <td>2</td>\n",
       "      <td>Yes</td>\n",
       "      <td>While appearing for the exams</td>\n",
       "      <td>Dancing</td>\n",
       "    </tr>\n",
       "    <tr>\n",
       "      <th>8</th>\n",
       "      <td>Anurag Sinha</td>\n",
       "      <td>XII</td>\n",
       "      <td>92</td>\n",
       "      <td>4.0</td>\n",
       "      <td>Day-Scholar</td>\n",
       "      <td>Daliya</td>\n",
       "      <td>1</td>\n",
       "      <td>Yes</td>\n",
       "      <td>While giving a speech</td>\n",
       "      <td>Sports</td>\n",
       "    </tr>\n",
       "    <tr>\n",
       "      <th>9</th>\n",
       "      <td>Bhanu Sharma</td>\n",
       "      <td>XII</td>\n",
       "      <td>95</td>\n",
       "      <td>4.0</td>\n",
       "      <td>Hosteler</td>\n",
       "      <td>Aluu Parantha</td>\n",
       "      <td>1</td>\n",
       "      <td>Yes</td>\n",
       "      <td>While answering question asked by the teacher</td>\n",
       "      <td>Theatre</td>\n",
       "    </tr>\n",
       "    <tr>\n",
       "      <th>10</th>\n",
       "      <td>Ishan Kumar</td>\n",
       "      <td>XII</td>\n",
       "      <td>80</td>\n",
       "      <td>1.5</td>\n",
       "      <td>Day-Scholar</td>\n",
       "      <td>Aluu Parantha</td>\n",
       "      <td>3</td>\n",
       "      <td>Yes</td>\n",
       "      <td>While being called up by the principle</td>\n",
       "      <td>Sports</td>\n",
       "    </tr>\n",
       "    <tr>\n",
       "      <th>11</th>\n",
       "      <td>Devina Rattan</td>\n",
       "      <td>XII</td>\n",
       "      <td>75</td>\n",
       "      <td>2.0</td>\n",
       "      <td>Hosteler</td>\n",
       "      <td>Bhathura</td>\n",
       "      <td>4</td>\n",
       "      <td>No</td>\n",
       "      <td>NaN</td>\n",
       "      <td>Theatre</td>\n",
       "    </tr>\n",
       "    <tr>\n",
       "      <th>12</th>\n",
       "      <td>Kanika Mahajan</td>\n",
       "      <td>XII</td>\n",
       "      <td>68</td>\n",
       "      <td>2.5</td>\n",
       "      <td>Day-Scholar</td>\n",
       "      <td>Aluu Parantha</td>\n",
       "      <td>2</td>\n",
       "      <td>Yes</td>\n",
       "      <td>While answering question asked by the teacher</td>\n",
       "      <td>Dancing</td>\n",
       "    </tr>\n",
       "    <tr>\n",
       "      <th>13</th>\n",
       "      <td>Dhruv Ranade</td>\n",
       "      <td>XII</td>\n",
       "      <td>77</td>\n",
       "      <td>2.0</td>\n",
       "      <td>Hosteler</td>\n",
       "      <td>Aluu Parantha</td>\n",
       "      <td>1</td>\n",
       "      <td>No</td>\n",
       "      <td>NaN</td>\n",
       "      <td>Sports</td>\n",
       "    </tr>\n",
       "    <tr>\n",
       "      <th>14</th>\n",
       "      <td>Ambesh Sharma</td>\n",
       "      <td>XII</td>\n",
       "      <td>79</td>\n",
       "      <td>1.5</td>\n",
       "      <td>Day-Scholar</td>\n",
       "      <td>Bhathura</td>\n",
       "      <td>3</td>\n",
       "      <td>Yes</td>\n",
       "      <td>While appearing for the exams</td>\n",
       "      <td>Sports</td>\n",
       "    </tr>\n",
       "    <tr>\n",
       "      <th>15</th>\n",
       "      <td>Shradhha Singh</td>\n",
       "      <td>XII</td>\n",
       "      <td>72</td>\n",
       "      <td>2.5</td>\n",
       "      <td>Hosteler</td>\n",
       "      <td>Bhathura</td>\n",
       "      <td>3</td>\n",
       "      <td>No</td>\n",
       "      <td>NaN</td>\n",
       "      <td>Singing</td>\n",
       "    </tr>\n",
       "    <tr>\n",
       "      <th>16</th>\n",
       "      <td>Arjun Sinha</td>\n",
       "      <td>XII</td>\n",
       "      <td>69</td>\n",
       "      <td>2.5</td>\n",
       "      <td>Day-Scholar</td>\n",
       "      <td>Bread Cutlet</td>\n",
       "      <td>3</td>\n",
       "      <td>Yes</td>\n",
       "      <td>While answering question asked by the teacher</td>\n",
       "      <td>Sports</td>\n",
       "    </tr>\n",
       "    <tr>\n",
       "      <th>17</th>\n",
       "      <td>Shashi Sharma</td>\n",
       "      <td>XII</td>\n",
       "      <td>66</td>\n",
       "      <td>1.5</td>\n",
       "      <td>Hosteler</td>\n",
       "      <td>Daliya</td>\n",
       "      <td>2</td>\n",
       "      <td>No</td>\n",
       "      <td>NaN</td>\n",
       "      <td>Theatre</td>\n",
       "    </tr>\n",
       "    <tr>\n",
       "      <th>18</th>\n",
       "      <td>Bimla Devi</td>\n",
       "      <td>XII</td>\n",
       "      <td>74</td>\n",
       "      <td>2.0</td>\n",
       "      <td>Day-Scholar</td>\n",
       "      <td>Aluu Parantha</td>\n",
       "      <td>4</td>\n",
       "      <td>Yes</td>\n",
       "      <td>While appearing for the exams</td>\n",
       "      <td>Singing</td>\n",
       "    </tr>\n",
       "    <tr>\n",
       "      <th>19</th>\n",
       "      <td>Himanshu Gupta</td>\n",
       "      <td>XII</td>\n",
       "      <td>85</td>\n",
       "      <td>2.0</td>\n",
       "      <td>Hosteler</td>\n",
       "      <td>Bhathura</td>\n",
       "      <td>2</td>\n",
       "      <td>No</td>\n",
       "      <td>NaN</td>\n",
       "      <td>Dancing</td>\n",
       "    </tr>\n",
       "    <tr>\n",
       "      <th>20</th>\n",
       "      <td>Deepanshu Garg</td>\n",
       "      <td>XII</td>\n",
       "      <td>64</td>\n",
       "      <td>1.0</td>\n",
       "      <td>Day-Scholar</td>\n",
       "      <td>Bread Cutlet</td>\n",
       "      <td>4</td>\n",
       "      <td>Yes</td>\n",
       "      <td>While answering question asked by the teacher</td>\n",
       "      <td>Cooking</td>\n",
       "    </tr>\n",
       "    <tr>\n",
       "      <th>21</th>\n",
       "      <td>Vinay Salotra</td>\n",
       "      <td>XII</td>\n",
       "      <td>61</td>\n",
       "      <td>1.0</td>\n",
       "      <td>Hosteler</td>\n",
       "      <td>Aluu Parantha</td>\n",
       "      <td>4</td>\n",
       "      <td>No</td>\n",
       "      <td>NaN</td>\n",
       "      <td>Singing</td>\n",
       "    </tr>\n",
       "    <tr>\n",
       "      <th>22</th>\n",
       "      <td>Kulbhushan Singh</td>\n",
       "      <td>XII</td>\n",
       "      <td>59</td>\n",
       "      <td>0.5</td>\n",
       "      <td>Day-Scholar</td>\n",
       "      <td>Aluu Parantha</td>\n",
       "      <td>3</td>\n",
       "      <td>Yes</td>\n",
       "      <td>While giving a speech</td>\n",
       "      <td>Theatre</td>\n",
       "    </tr>\n",
       "    <tr>\n",
       "      <th>23</th>\n",
       "      <td>Aparna Chowdhary</td>\n",
       "      <td>XII</td>\n",
       "      <td>57</td>\n",
       "      <td>0.5</td>\n",
       "      <td>Hosteler</td>\n",
       "      <td>Bhathura</td>\n",
       "      <td>4</td>\n",
       "      <td>No</td>\n",
       "      <td>NaN</td>\n",
       "      <td>Singing</td>\n",
       "    </tr>\n",
       "    <tr>\n",
       "      <th>24</th>\n",
       "      <td>Digvijay Singh</td>\n",
       "      <td>XII</td>\n",
       "      <td>54</td>\n",
       "      <td>1.0</td>\n",
       "      <td>Day-Scholar</td>\n",
       "      <td>Aluu Parantha</td>\n",
       "      <td>4</td>\n",
       "      <td>Yes</td>\n",
       "      <td>While appearing for the exams</td>\n",
       "      <td>Cooking</td>\n",
       "    </tr>\n",
       "    <tr>\n",
       "      <th>25</th>\n",
       "      <td>Ramesh Kalia</td>\n",
       "      <td>XII</td>\n",
       "      <td>43</td>\n",
       "      <td>0.0</td>\n",
       "      <td>Hosteler</td>\n",
       "      <td>Bread Cutlet</td>\n",
       "      <td>4</td>\n",
       "      <td>No</td>\n",
       "      <td>NaN</td>\n",
       "      <td>Theatre</td>\n",
       "    </tr>\n",
       "    <tr>\n",
       "      <th>26</th>\n",
       "      <td>Suresh Chowdhary</td>\n",
       "      <td>XII</td>\n",
       "      <td>59</td>\n",
       "      <td>1.0</td>\n",
       "      <td>Day-Scholar</td>\n",
       "      <td>Daliya</td>\n",
       "      <td>3</td>\n",
       "      <td>Yes</td>\n",
       "      <td>While being called up by the principle</td>\n",
       "      <td>Cooking</td>\n",
       "    </tr>\n",
       "    <tr>\n",
       "      <th>27</th>\n",
       "      <td>Apoorva Mahajan</td>\n",
       "      <td>XII</td>\n",
       "      <td>63</td>\n",
       "      <td>1.5</td>\n",
       "      <td>Hosteler</td>\n",
       "      <td>Aluu Parantha</td>\n",
       "      <td>4</td>\n",
       "      <td>No</td>\n",
       "      <td>NaN</td>\n",
       "      <td>Theatre</td>\n",
       "    </tr>\n",
       "    <tr>\n",
       "      <th>28</th>\n",
       "      <td>Kapil Gehlot</td>\n",
       "      <td>XII</td>\n",
       "      <td>60</td>\n",
       "      <td>1.0</td>\n",
       "      <td>Day-Scholar</td>\n",
       "      <td>Bhathura</td>\n",
       "      <td>4</td>\n",
       "      <td>Yes</td>\n",
       "      <td>While appearing for the exams</td>\n",
       "      <td>Cooking</td>\n",
       "    </tr>\n",
       "    <tr>\n",
       "      <th>29</th>\n",
       "      <td>Raghini Mourya</td>\n",
       "      <td>XII</td>\n",
       "      <td>55</td>\n",
       "      <td>1.5</td>\n",
       "      <td>Hosteler</td>\n",
       "      <td>Bhathura</td>\n",
       "      <td>4</td>\n",
       "      <td>No</td>\n",
       "      <td>NaN</td>\n",
       "      <td>Dancing</td>\n",
       "    </tr>\n",
       "    <tr>\n",
       "      <th>30</th>\n",
       "      <td>Devendar Bains</td>\n",
       "      <td>XI</td>\n",
       "      <td>94</td>\n",
       "      <td>3.5</td>\n",
       "      <td>Day-Scholar</td>\n",
       "      <td>Bread Cutlet</td>\n",
       "      <td>1</td>\n",
       "      <td>Yes</td>\n",
       "      <td>While appearing for the exams</td>\n",
       "      <td>Sports</td>\n",
       "    </tr>\n",
       "    <tr>\n",
       "      <th>31</th>\n",
       "      <td>Divyesh Sharma</td>\n",
       "      <td>XI</td>\n",
       "      <td>93</td>\n",
       "      <td>4.0</td>\n",
       "      <td>Hosteler</td>\n",
       "      <td>Daliya</td>\n",
       "      <td>1</td>\n",
       "      <td>Yes</td>\n",
       "      <td>While appearing for the exams</td>\n",
       "      <td>Theatre</td>\n",
       "    </tr>\n",
       "    <tr>\n",
       "      <th>32</th>\n",
       "      <td>Yash Sharma</td>\n",
       "      <td>XI</td>\n",
       "      <td>85</td>\n",
       "      <td>3.0</td>\n",
       "      <td>Day-Scholar</td>\n",
       "      <td>Bhathura</td>\n",
       "      <td>1</td>\n",
       "      <td>Yes</td>\n",
       "      <td>While giving a speech</td>\n",
       "      <td>Sports</td>\n",
       "    </tr>\n",
       "    <tr>\n",
       "      <th>33</th>\n",
       "      <td>Naman Deep</td>\n",
       "      <td>XI</td>\n",
       "      <td>82</td>\n",
       "      <td>4.5</td>\n",
       "      <td>Hosteler</td>\n",
       "      <td>Daliya</td>\n",
       "      <td>2</td>\n",
       "      <td>Yes</td>\n",
       "      <td>While giving a speech</td>\n",
       "      <td>Dancing</td>\n",
       "    </tr>\n",
       "    <tr>\n",
       "      <th>34</th>\n",
       "      <td>Saurabh Sharma</td>\n",
       "      <td>XI</td>\n",
       "      <td>90</td>\n",
       "      <td>3.0</td>\n",
       "      <td>Day-Scholar</td>\n",
       "      <td>Bread Cutlet</td>\n",
       "      <td>2</td>\n",
       "      <td>Yes</td>\n",
       "      <td>While appearing for the exams</td>\n",
       "      <td>Sports</td>\n",
       "    </tr>\n",
       "    <tr>\n",
       "      <th>35</th>\n",
       "      <td>Gaurabh Singh</td>\n",
       "      <td>XI</td>\n",
       "      <td>97</td>\n",
       "      <td>4.5</td>\n",
       "      <td>Hosteler</td>\n",
       "      <td>Aluu Parantha</td>\n",
       "      <td>2</td>\n",
       "      <td>No</td>\n",
       "      <td>NaN</td>\n",
       "      <td>Theatre</td>\n",
       "    </tr>\n",
       "    <tr>\n",
       "      <th>36</th>\n",
       "      <td>Menu kumari</td>\n",
       "      <td>XI</td>\n",
       "      <td>81</td>\n",
       "      <td>3.5</td>\n",
       "      <td>Day-Scholar</td>\n",
       "      <td>Daliya</td>\n",
       "      <td>1</td>\n",
       "      <td>Yes</td>\n",
       "      <td>While giving a speech</td>\n",
       "      <td>Cooking</td>\n",
       "    </tr>\n",
       "    <tr>\n",
       "      <th>37</th>\n",
       "      <td>Rajat Narwaana</td>\n",
       "      <td>XI</td>\n",
       "      <td>89</td>\n",
       "      <td>3.0</td>\n",
       "      <td>Hosteler</td>\n",
       "      <td>Bread Cutlet</td>\n",
       "      <td>2</td>\n",
       "      <td>Yes</td>\n",
       "      <td>While appearing for the exams</td>\n",
       "      <td>Sports</td>\n",
       "    </tr>\n",
       "    <tr>\n",
       "      <th>38</th>\n",
       "      <td>Gaureesh Panday</td>\n",
       "      <td>XI</td>\n",
       "      <td>92</td>\n",
       "      <td>4.0</td>\n",
       "      <td>Day-Scholar</td>\n",
       "      <td>Daliya</td>\n",
       "      <td>1</td>\n",
       "      <td>Yes</td>\n",
       "      <td>While giving a speech</td>\n",
       "      <td>Dancing</td>\n",
       "    </tr>\n",
       "    <tr>\n",
       "      <th>39</th>\n",
       "      <td>Poorva</td>\n",
       "      <td>XI</td>\n",
       "      <td>95</td>\n",
       "      <td>4.0</td>\n",
       "      <td>Hosteler</td>\n",
       "      <td>Aluu Parantha</td>\n",
       "      <td>1</td>\n",
       "      <td>Yes</td>\n",
       "      <td>While answering question asked by the teacher</td>\n",
       "      <td>Cooking</td>\n",
       "    </tr>\n",
       "    <tr>\n",
       "      <th>40</th>\n",
       "      <td>Shruti Kaur</td>\n",
       "      <td>XI</td>\n",
       "      <td>80</td>\n",
       "      <td>1.5</td>\n",
       "      <td>Day-Scholar</td>\n",
       "      <td>Aluu Parantha</td>\n",
       "      <td>3</td>\n",
       "      <td>Yes</td>\n",
       "      <td>While being called up by the principle</td>\n",
       "      <td>Cooking</td>\n",
       "    </tr>\n",
       "    <tr>\n",
       "      <th>41</th>\n",
       "      <td>Ravi Raushan</td>\n",
       "      <td>XI</td>\n",
       "      <td>75</td>\n",
       "      <td>2.0</td>\n",
       "      <td>Hosteler</td>\n",
       "      <td>Bhathura</td>\n",
       "      <td>4</td>\n",
       "      <td>No</td>\n",
       "      <td>NaN</td>\n",
       "      <td>Sports</td>\n",
       "    </tr>\n",
       "    <tr>\n",
       "      <th>42</th>\n",
       "      <td>Amrik Singh</td>\n",
       "      <td>XI</td>\n",
       "      <td>68</td>\n",
       "      <td>2.5</td>\n",
       "      <td>Day-Scholar</td>\n",
       "      <td>Aluu Parantha</td>\n",
       "      <td>2</td>\n",
       "      <td>Yes</td>\n",
       "      <td>While answering question asked by the teacher</td>\n",
       "      <td>Singing</td>\n",
       "    </tr>\n",
       "    <tr>\n",
       "      <th>43</th>\n",
       "      <td>Raushan Lal</td>\n",
       "      <td>XI</td>\n",
       "      <td>77</td>\n",
       "      <td>2.0</td>\n",
       "      <td>Hosteler</td>\n",
       "      <td>Aluu Parantha</td>\n",
       "      <td>1</td>\n",
       "      <td>No</td>\n",
       "      <td>NaN</td>\n",
       "      <td>Dancing</td>\n",
       "    </tr>\n",
       "    <tr>\n",
       "      <th>44</th>\n",
       "      <td>Gagan Deep Singh</td>\n",
       "      <td>XI</td>\n",
       "      <td>79</td>\n",
       "      <td>1.5</td>\n",
       "      <td>Day-Scholar</td>\n",
       "      <td>Bhathura</td>\n",
       "      <td>3</td>\n",
       "      <td>Yes</td>\n",
       "      <td>While appearing for the exams</td>\n",
       "      <td>Theatre</td>\n",
       "    </tr>\n",
       "    <tr>\n",
       "      <th>45</th>\n",
       "      <td>Navjot Singh</td>\n",
       "      <td>XI</td>\n",
       "      <td>72</td>\n",
       "      <td>2.5</td>\n",
       "      <td>Hosteler</td>\n",
       "      <td>Bhathura</td>\n",
       "      <td>3</td>\n",
       "      <td>No</td>\n",
       "      <td>NaN</td>\n",
       "      <td>Sports</td>\n",
       "    </tr>\n",
       "    <tr>\n",
       "      <th>46</th>\n",
       "      <td>Navjot Kaur</td>\n",
       "      <td>XI</td>\n",
       "      <td>69</td>\n",
       "      <td>2.5</td>\n",
       "      <td>Day-Scholar</td>\n",
       "      <td>Bread Cutlet</td>\n",
       "      <td>3</td>\n",
       "      <td>Yes</td>\n",
       "      <td>While answering question asked by the teacher</td>\n",
       "      <td>Cooking</td>\n",
       "    </tr>\n",
       "    <tr>\n",
       "      <th>47</th>\n",
       "      <td>Karan Deep Singh</td>\n",
       "      <td>XI</td>\n",
       "      <td>66</td>\n",
       "      <td>1.5</td>\n",
       "      <td>Hosteler</td>\n",
       "      <td>Daliya</td>\n",
       "      <td>2</td>\n",
       "      <td>No</td>\n",
       "      <td>NaN</td>\n",
       "      <td>Sports</td>\n",
       "    </tr>\n",
       "    <tr>\n",
       "      <th>48</th>\n",
       "      <td>Karan Pathania</td>\n",
       "      <td>XI</td>\n",
       "      <td>74</td>\n",
       "      <td>2.0</td>\n",
       "      <td>Day-Scholar</td>\n",
       "      <td>Aluu Parantha</td>\n",
       "      <td>4</td>\n",
       "      <td>Yes</td>\n",
       "      <td>While appearing for the exams</td>\n",
       "      <td>Theatre</td>\n",
       "    </tr>\n",
       "    <tr>\n",
       "      <th>49</th>\n",
       "      <td>Gaurav Nanda</td>\n",
       "      <td>XI</td>\n",
       "      <td>85</td>\n",
       "      <td>2.0</td>\n",
       "      <td>Hosteler</td>\n",
       "      <td>Bhathura</td>\n",
       "      <td>2</td>\n",
       "      <td>No</td>\n",
       "      <td>NaN</td>\n",
       "      <td>Cooking</td>\n",
       "    </tr>\n",
       "    <tr>\n",
       "      <th>50</th>\n",
       "      <td>Harsimran Kaur</td>\n",
       "      <td>XI</td>\n",
       "      <td>64</td>\n",
       "      <td>1.0</td>\n",
       "      <td>Day-Scholar</td>\n",
       "      <td>Bread Cutlet</td>\n",
       "      <td>4</td>\n",
       "      <td>Yes</td>\n",
       "      <td>While answering question asked by the teacher</td>\n",
       "      <td>Sports</td>\n",
       "    </tr>\n",
       "    <tr>\n",
       "      <th>51</th>\n",
       "      <td>Girish Jaiswal</td>\n",
       "      <td>XI</td>\n",
       "      <td>61</td>\n",
       "      <td>1.0</td>\n",
       "      <td>Hosteler</td>\n",
       "      <td>Aluu Parantha</td>\n",
       "      <td>4</td>\n",
       "      <td>No</td>\n",
       "      <td>NaN</td>\n",
       "      <td>Theatre</td>\n",
       "    </tr>\n",
       "    <tr>\n",
       "      <th>52</th>\n",
       "      <td>Gokul Kohli</td>\n",
       "      <td>XI</td>\n",
       "      <td>59</td>\n",
       "      <td>0.5</td>\n",
       "      <td>Day-Scholar</td>\n",
       "      <td>Aluu Parantha</td>\n",
       "      <td>3</td>\n",
       "      <td>Yes</td>\n",
       "      <td>While giving a speech</td>\n",
       "      <td>Cooking</td>\n",
       "    </tr>\n",
       "    <tr>\n",
       "      <th>53</th>\n",
       "      <td>Hriday Mahajan</td>\n",
       "      <td>XI</td>\n",
       "      <td>57</td>\n",
       "      <td>0.5</td>\n",
       "      <td>Hosteler</td>\n",
       "      <td>Bhathura</td>\n",
       "      <td>4</td>\n",
       "      <td>No</td>\n",
       "      <td>NaN</td>\n",
       "      <td>Sports</td>\n",
       "    </tr>\n",
       "    <tr>\n",
       "      <th>54</th>\n",
       "      <td>Kartik Mehta</td>\n",
       "      <td>XI</td>\n",
       "      <td>54</td>\n",
       "      <td>1.0</td>\n",
       "      <td>Day-Scholar</td>\n",
       "      <td>Aluu Parantha</td>\n",
       "      <td>4</td>\n",
       "      <td>Yes</td>\n",
       "      <td>While appearing for the exams</td>\n",
       "      <td>Theatre</td>\n",
       "    </tr>\n",
       "    <tr>\n",
       "      <th>55</th>\n",
       "      <td>Vinod Shastri</td>\n",
       "      <td>XI</td>\n",
       "      <td>43</td>\n",
       "      <td>0.0</td>\n",
       "      <td>Hosteler</td>\n",
       "      <td>Bread Cutlet</td>\n",
       "      <td>4</td>\n",
       "      <td>No</td>\n",
       "      <td>NaN</td>\n",
       "      <td>Sports</td>\n",
       "    </tr>\n",
       "    <tr>\n",
       "      <th>56</th>\n",
       "      <td>Arjun Mishra</td>\n",
       "      <td>XI</td>\n",
       "      <td>59</td>\n",
       "      <td>1.0</td>\n",
       "      <td>Day-Scholar</td>\n",
       "      <td>Daliya</td>\n",
       "      <td>3</td>\n",
       "      <td>Yes</td>\n",
       "      <td>While being called up by the principle</td>\n",
       "      <td>Cooking</td>\n",
       "    </tr>\n",
       "    <tr>\n",
       "      <th>57</th>\n",
       "      <td>Shivek Mahajan</td>\n",
       "      <td>XI</td>\n",
       "      <td>63</td>\n",
       "      <td>1.5</td>\n",
       "      <td>Hosteler</td>\n",
       "      <td>Aluu Parantha</td>\n",
       "      <td>4</td>\n",
       "      <td>No</td>\n",
       "      <td>NaN</td>\n",
       "      <td>Cooking</td>\n",
       "    </tr>\n",
       "    <tr>\n",
       "      <th>58</th>\n",
       "      <td>Prashant Mahajan</td>\n",
       "      <td>XI</td>\n",
       "      <td>60</td>\n",
       "      <td>1.0</td>\n",
       "      <td>Day-Scholar</td>\n",
       "      <td>Bhathura</td>\n",
       "      <td>4</td>\n",
       "      <td>Yes</td>\n",
       "      <td>While appearing for the exams</td>\n",
       "      <td>Singing</td>\n",
       "    </tr>\n",
       "    <tr>\n",
       "      <th>59</th>\n",
       "      <td>Shubham Sardhalia</td>\n",
       "      <td>XI</td>\n",
       "      <td>55</td>\n",
       "      <td>1.5</td>\n",
       "      <td>Hosteler</td>\n",
       "      <td>Bhathura</td>\n",
       "      <td>4</td>\n",
       "      <td>No</td>\n",
       "      <td>NaN</td>\n",
       "      <td>Theatre</td>\n",
       "    </tr>\n",
       "  </tbody>\n",
       "</table>\n",
       "</div>"
      ],
      "text/plain": [
       "                 Name Class_studying  Percentage_scored  Self_Study_hours  \\\n",
       "0      Aaditya Sharma            XII                 94               3.5   \n",
       "1         Veenu Mehra            XII                 93               4.0   \n",
       "2         Anjali Garg            XII                 85               3.0   \n",
       "3         Rahul Mehra            XII                 82               4.5   \n",
       "4       Vishu Mahajan            XII                 90               3.0   \n",
       "5       Aman Khurrana            XII                 97               4.5   \n",
       "6        Ajnala Singh            XII                 81               3.5   \n",
       "7         Kusum Gupta            XII                 89               3.0   \n",
       "8        Anurag Sinha            XII                 92               4.0   \n",
       "9        Bhanu Sharma            XII                 95               4.0   \n",
       "10        Ishan Kumar            XII                 80               1.5   \n",
       "11      Devina Rattan            XII                 75               2.0   \n",
       "12     Kanika Mahajan            XII                 68               2.5   \n",
       "13       Dhruv Ranade            XII                 77               2.0   \n",
       "14      Ambesh Sharma            XII                 79               1.5   \n",
       "15     Shradhha Singh            XII                 72               2.5   \n",
       "16        Arjun Sinha            XII                 69               2.5   \n",
       "17      Shashi Sharma            XII                 66               1.5   \n",
       "18         Bimla Devi            XII                 74               2.0   \n",
       "19     Himanshu Gupta            XII                 85               2.0   \n",
       "20     Deepanshu Garg            XII                 64               1.0   \n",
       "21      Vinay Salotra            XII                 61               1.0   \n",
       "22   Kulbhushan Singh            XII                 59               0.5   \n",
       "23   Aparna Chowdhary            XII                 57               0.5   \n",
       "24     Digvijay Singh            XII                 54               1.0   \n",
       "25       Ramesh Kalia            XII                 43               0.0   \n",
       "26   Suresh Chowdhary            XII                 59               1.0   \n",
       "27    Apoorva Mahajan            XII                 63               1.5   \n",
       "28       Kapil Gehlot            XII                 60               1.0   \n",
       "29     Raghini Mourya            XII                 55               1.5   \n",
       "30     Devendar Bains             XI                 94               3.5   \n",
       "31     Divyesh Sharma             XI                 93               4.0   \n",
       "32        Yash Sharma             XI                 85               3.0   \n",
       "33        Naman Deep              XI                 82               4.5   \n",
       "34     Saurabh Sharma             XI                 90               3.0   \n",
       "35     Gaurabh Singh              XI                 97               4.5   \n",
       "36       Menu kumari              XI                 81               3.5   \n",
       "37     Rajat Narwaana             XI                 89               3.0   \n",
       "38    Gaureesh Panday             XI                 92               4.0   \n",
       "39            Poorva              XI                 95               4.0   \n",
       "40        Shruti Kaur             XI                 80               1.5   \n",
       "41       Ravi Raushan             XI                 75               2.0   \n",
       "42        Amrik Singh             XI                 68               2.5   \n",
       "43        Raushan Lal             XI                 77               2.0   \n",
       "44   Gagan Deep Singh             XI                 79               1.5   \n",
       "45       Navjot Singh             XI                 72               2.5   \n",
       "46        Navjot Kaur             XI                 69               2.5   \n",
       "47   Karan Deep Singh             XI                 66               1.5   \n",
       "48     Karan Pathania             XI                 74               2.0   \n",
       "49       Gaurav Nanda             XI                 85               2.0   \n",
       "50     Harsimran Kaur             XI                 64               1.0   \n",
       "51     Girish Jaiswal             XI                 61               1.0   \n",
       "52        Gokul Kohli             XI                 59               0.5   \n",
       "53     Hriday Mahajan             XI                 57               0.5   \n",
       "54       Kartik Mehta             XI                 54               1.0   \n",
       "55      Vinod Shastri             XI                 43               0.0   \n",
       "56       Arjun Mishra             XI                 59               1.0   \n",
       "57     Shivek Mahajan             XI                 63               1.5   \n",
       "58   Prashant Mahajan             XI                 60               1.0   \n",
       "59  Shubham Sardhalia             XI                 55               1.5   \n",
       "\n",
       "   Residential Status Favourite Food  \\\n",
       "0         Day-Scholar   Bread Cutlet   \n",
       "1            Hosteler         Daliya   \n",
       "2         Day-Scholar       Bhathura   \n",
       "3            Hosteler         Daliya   \n",
       "4         Day-Scholar   Bread Cutlet   \n",
       "5            Hosteler  Aluu Parantha   \n",
       "6         Day-Scholar         Daliya   \n",
       "7            Hosteler   Bread Cutlet   \n",
       "8         Day-Scholar         Daliya   \n",
       "9            Hosteler  Aluu Parantha   \n",
       "10        Day-Scholar  Aluu Parantha   \n",
       "11           Hosteler       Bhathura   \n",
       "12        Day-Scholar  Aluu Parantha   \n",
       "13           Hosteler  Aluu Parantha   \n",
       "14        Day-Scholar       Bhathura   \n",
       "15           Hosteler       Bhathura   \n",
       "16        Day-Scholar   Bread Cutlet   \n",
       "17           Hosteler         Daliya   \n",
       "18        Day-Scholar  Aluu Parantha   \n",
       "19           Hosteler       Bhathura   \n",
       "20        Day-Scholar   Bread Cutlet   \n",
       "21           Hosteler  Aluu Parantha   \n",
       "22        Day-Scholar  Aluu Parantha   \n",
       "23           Hosteler       Bhathura   \n",
       "24        Day-Scholar  Aluu Parantha   \n",
       "25           Hosteler   Bread Cutlet   \n",
       "26        Day-Scholar         Daliya   \n",
       "27           Hosteler  Aluu Parantha   \n",
       "28        Day-Scholar       Bhathura   \n",
       "29           Hosteler       Bhathura   \n",
       "30        Day-Scholar   Bread Cutlet   \n",
       "31           Hosteler         Daliya   \n",
       "32        Day-Scholar       Bhathura   \n",
       "33           Hosteler         Daliya   \n",
       "34        Day-Scholar   Bread Cutlet   \n",
       "35           Hosteler  Aluu Parantha   \n",
       "36        Day-Scholar         Daliya   \n",
       "37           Hosteler   Bread Cutlet   \n",
       "38        Day-Scholar         Daliya   \n",
       "39           Hosteler  Aluu Parantha   \n",
       "40        Day-Scholar  Aluu Parantha   \n",
       "41           Hosteler       Bhathura   \n",
       "42        Day-Scholar  Aluu Parantha   \n",
       "43           Hosteler  Aluu Parantha   \n",
       "44        Day-Scholar       Bhathura   \n",
       "45           Hosteler       Bhathura   \n",
       "46        Day-Scholar   Bread Cutlet   \n",
       "47           Hosteler         Daliya   \n",
       "48        Day-Scholar  Aluu Parantha   \n",
       "49           Hosteler       Bhathura   \n",
       "50        Day-Scholar   Bread Cutlet   \n",
       "51           Hosteler  Aluu Parantha   \n",
       "52        Day-Scholar  Aluu Parantha   \n",
       "53           Hosteler       Bhathura   \n",
       "54        Day-Scholar  Aluu Parantha   \n",
       "55           Hosteler   Bread Cutlet   \n",
       "56        Day-Scholar         Daliya   \n",
       "57           Hosteler  Aluu Parantha   \n",
       "58        Day-Scholar       Bhathura   \n",
       "59           Hosteler       Bhathura   \n",
       "\n",
       "    How many Paranthas/Bhathuras/Cutltes do you prefer eating  \\\n",
       "0                                                   1           \n",
       "1                                                   1           \n",
       "2                                                   1           \n",
       "3                                                   2           \n",
       "4                                                   2           \n",
       "5                                                   2           \n",
       "6                                                   1           \n",
       "7                                                   2           \n",
       "8                                                   1           \n",
       "9                                                   1           \n",
       "10                                                  3           \n",
       "11                                                  4           \n",
       "12                                                  2           \n",
       "13                                                  1           \n",
       "14                                                  3           \n",
       "15                                                  3           \n",
       "16                                                  3           \n",
       "17                                                  2           \n",
       "18                                                  4           \n",
       "19                                                  2           \n",
       "20                                                  4           \n",
       "21                                                  4           \n",
       "22                                                  3           \n",
       "23                                                  4           \n",
       "24                                                  4           \n",
       "25                                                  4           \n",
       "26                                                  3           \n",
       "27                                                  4           \n",
       "28                                                  4           \n",
       "29                                                  4           \n",
       "30                                                  1           \n",
       "31                                                  1           \n",
       "32                                                  1           \n",
       "33                                                  2           \n",
       "34                                                  2           \n",
       "35                                                  2           \n",
       "36                                                  1           \n",
       "37                                                  2           \n",
       "38                                                  1           \n",
       "39                                                  1           \n",
       "40                                                  3           \n",
       "41                                                  4           \n",
       "42                                                  2           \n",
       "43                                                  1           \n",
       "44                                                  3           \n",
       "45                                                  3           \n",
       "46                                                  3           \n",
       "47                                                  2           \n",
       "48                                                  4           \n",
       "49                                                  2           \n",
       "50                                                  4           \n",
       "51                                                  4           \n",
       "52                                                  3           \n",
       "53                                                  4           \n",
       "54                                                  4           \n",
       "55                                                  4           \n",
       "56                                                  3           \n",
       "57                                                  4           \n",
       "58                                                  4           \n",
       "59                                                  4           \n",
       "\n",
       "   Do you feel stressed quite often  \\\n",
       "0                              Yes    \n",
       "1                              Yes    \n",
       "2                              Yes    \n",
       "3                              Yes    \n",
       "4                              Yes    \n",
       "5                                No   \n",
       "6                              Yes    \n",
       "7                              Yes    \n",
       "8                              Yes    \n",
       "9                              Yes    \n",
       "10                             Yes    \n",
       "11                               No   \n",
       "12                             Yes    \n",
       "13                               No   \n",
       "14                             Yes    \n",
       "15                               No   \n",
       "16                             Yes    \n",
       "17                               No   \n",
       "18                             Yes    \n",
       "19                               No   \n",
       "20                             Yes    \n",
       "21                               No   \n",
       "22                             Yes    \n",
       "23                               No   \n",
       "24                             Yes    \n",
       "25                               No   \n",
       "26                             Yes    \n",
       "27                               No   \n",
       "28                             Yes    \n",
       "29                               No   \n",
       "30                             Yes    \n",
       "31                             Yes    \n",
       "32                             Yes    \n",
       "33                             Yes    \n",
       "34                             Yes    \n",
       "35                               No   \n",
       "36                             Yes    \n",
       "37                             Yes    \n",
       "38                             Yes    \n",
       "39                             Yes    \n",
       "40                             Yes    \n",
       "41                               No   \n",
       "42                             Yes    \n",
       "43                               No   \n",
       "44                             Yes    \n",
       "45                               No   \n",
       "46                             Yes    \n",
       "47                               No   \n",
       "48                             Yes    \n",
       "49                               No   \n",
       "50                             Yes    \n",
       "51                               No   \n",
       "52                             Yes    \n",
       "53                               No   \n",
       "54                             Yes    \n",
       "55                               No   \n",
       "56                             Yes    \n",
       "57                               No   \n",
       "58                             Yes    \n",
       "59                               No   \n",
       "\n",
       "   When is the most number of times you feel you are stressed  \\\n",
       "0                       While appearing for the exams           \n",
       "1                       While appearing for the exams           \n",
       "2                               While giving a speech           \n",
       "3                               While giving a speech           \n",
       "4                       While appearing for the exams           \n",
       "5                                                 NaN           \n",
       "6                               While giving a speech           \n",
       "7                       While appearing for the exams           \n",
       "8                               While giving a speech           \n",
       "9       While answering question asked by the teacher           \n",
       "10             While being called up by the principle           \n",
       "11                                                NaN           \n",
       "12      While answering question asked by the teacher           \n",
       "13                                                NaN           \n",
       "14                      While appearing for the exams           \n",
       "15                                                NaN           \n",
       "16      While answering question asked by the teacher           \n",
       "17                                                NaN           \n",
       "18                      While appearing for the exams           \n",
       "19                                                NaN           \n",
       "20      While answering question asked by the teacher           \n",
       "21                                                NaN           \n",
       "22                              While giving a speech           \n",
       "23                                                NaN           \n",
       "24                      While appearing for the exams           \n",
       "25                                                NaN           \n",
       "26             While being called up by the principle           \n",
       "27                                                NaN           \n",
       "28                      While appearing for the exams           \n",
       "29                                                NaN           \n",
       "30                      While appearing for the exams           \n",
       "31                      While appearing for the exams           \n",
       "32                              While giving a speech           \n",
       "33                              While giving a speech           \n",
       "34                      While appearing for the exams           \n",
       "35                                                NaN           \n",
       "36                              While giving a speech           \n",
       "37                      While appearing for the exams           \n",
       "38                              While giving a speech           \n",
       "39      While answering question asked by the teacher           \n",
       "40             While being called up by the principle           \n",
       "41                                                NaN           \n",
       "42      While answering question asked by the teacher           \n",
       "43                                                NaN           \n",
       "44                      While appearing for the exams           \n",
       "45                                                NaN           \n",
       "46      While answering question asked by the teacher           \n",
       "47                                                NaN           \n",
       "48                      While appearing for the exams           \n",
       "49                                                NaN           \n",
       "50      While answering question asked by the teacher           \n",
       "51                                                NaN           \n",
       "52                              While giving a speech           \n",
       "53                                                NaN           \n",
       "54                      While appearing for the exams           \n",
       "55                                                NaN           \n",
       "56             While being called up by the principle           \n",
       "57                                                NaN           \n",
       "58                      While appearing for the exams           \n",
       "59                                                NaN           \n",
       "\n",
       "   Which extra co-curricular activites do you prefer spending your leisure time  \n",
       "0                                              Sports                            \n",
       "1                                              Sports                            \n",
       "2                                             Dancing                            \n",
       "3                                             Theatre                            \n",
       "4                                              Sports                            \n",
       "5                                              Sports                            \n",
       "6                                             Singing                            \n",
       "7                                             Dancing                            \n",
       "8                                              Sports                            \n",
       "9                                             Theatre                            \n",
       "10                                             Sports                            \n",
       "11                                            Theatre                            \n",
       "12                                            Dancing                            \n",
       "13                                             Sports                            \n",
       "14                                             Sports                            \n",
       "15                                            Singing                            \n",
       "16                                             Sports                            \n",
       "17                                            Theatre                            \n",
       "18                                            Singing                            \n",
       "19                                            Dancing                            \n",
       "20                                            Cooking                            \n",
       "21                                            Singing                            \n",
       "22                                            Theatre                            \n",
       "23                                            Singing                            \n",
       "24                                            Cooking                            \n",
       "25                                            Theatre                            \n",
       "26                                            Cooking                            \n",
       "27                                            Theatre                            \n",
       "28                                            Cooking                            \n",
       "29                                            Dancing                            \n",
       "30                                             Sports                            \n",
       "31                                            Theatre                            \n",
       "32                                             Sports                            \n",
       "33                                            Dancing                            \n",
       "34                                             Sports                            \n",
       "35                                            Theatre                            \n",
       "36                                            Cooking                            \n",
       "37                                             Sports                            \n",
       "38                                            Dancing                            \n",
       "39                                            Cooking                            \n",
       "40                                            Cooking                            \n",
       "41                                             Sports                            \n",
       "42                                            Singing                            \n",
       "43                                            Dancing                            \n",
       "44                                            Theatre                            \n",
       "45                                             Sports                            \n",
       "46                                            Cooking                            \n",
       "47                                             Sports                            \n",
       "48                                            Theatre                            \n",
       "49                                            Cooking                            \n",
       "50                                             Sports                            \n",
       "51                                            Theatre                            \n",
       "52                                            Cooking                            \n",
       "53                                             Sports                            \n",
       "54                                            Theatre                            \n",
       "55                                             Sports                            \n",
       "56                                            Cooking                            \n",
       "57                                            Cooking                            \n",
       "58                                            Singing                            \n",
       "59                                            Theatre                            "
      ]
     },
     "execution_count": 2,
     "metadata": {},
     "output_type": "execute_result"
    }
   ],
   "source": [
    "students = pd.read_excel(r'C:\\Users\\RAGHAV\\Desktop\\MBA Business Analytics\\Digital Marketing\\partap world school pathankot_files\\Questions Sample.xlsx')\n",
    "students"
   ]
  },
  {
   "cell_type": "code",
   "execution_count": 3,
   "id": "b7423ee3",
   "metadata": {},
   "outputs": [
    {
     "data": {
      "text/plain": [
       "(60, 10)"
      ]
     },
     "execution_count": 3,
     "metadata": {},
     "output_type": "execute_result"
    }
   ],
   "source": [
    "students.shape\n",
    "# this helps us to understand the total number of rows and columns in the dataset"
   ]
  },
  {
   "cell_type": "code",
   "execution_count": 4,
   "id": "ed55a322",
   "metadata": {},
   "outputs": [
    {
     "data": {
      "text/plain": [
       "Index(['Name', 'Class_studying', 'Percentage_scored', 'Self_Study_hours',\n",
       "       'Residential Status', 'Favourite Food',\n",
       "       'How many Paranthas/Bhathuras/Cutltes do you prefer eating',\n",
       "       'Do you feel stressed quite often',\n",
       "       'When is the most number of times you feel you are stressed',\n",
       "       'Which extra co-curricular activites do you prefer spending your leisure time'],\n",
       "      dtype='object')"
      ]
     },
     "execution_count": 4,
     "metadata": {},
     "output_type": "execute_result"
    }
   ],
   "source": [
    "students.columns"
   ]
  },
  {
   "cell_type": "code",
   "execution_count": 5,
   "id": "0951b002",
   "metadata": {},
   "outputs": [
    {
     "data": {
      "text/html": [
       "<div>\n",
       "<style scoped>\n",
       "    .dataframe tbody tr th:only-of-type {\n",
       "        vertical-align: middle;\n",
       "    }\n",
       "\n",
       "    .dataframe tbody tr th {\n",
       "        vertical-align: top;\n",
       "    }\n",
       "\n",
       "    .dataframe thead th {\n",
       "        text-align: right;\n",
       "    }\n",
       "</style>\n",
       "<table border=\"1\" class=\"dataframe\">\n",
       "  <thead>\n",
       "    <tr style=\"text-align: right;\">\n",
       "      <th></th>\n",
       "      <th>Percentage_scored</th>\n",
       "      <th>Self_Study_hours</th>\n",
       "      <th>How many Paranthas/Bhathuras/Cutltes do you prefer eating</th>\n",
       "    </tr>\n",
       "  </thead>\n",
       "  <tbody>\n",
       "    <tr>\n",
       "      <th>Percentage_scored</th>\n",
       "      <td>1.000000</td>\n",
       "      <td>0.873026</td>\n",
       "      <td>-0.781208</td>\n",
       "    </tr>\n",
       "    <tr>\n",
       "      <th>Self_Study_hours</th>\n",
       "      <td>0.873026</td>\n",
       "      <td>1.000000</td>\n",
       "      <td>-0.764607</td>\n",
       "    </tr>\n",
       "    <tr>\n",
       "      <th>How many Paranthas/Bhathuras/Cutltes do you prefer eating</th>\n",
       "      <td>-0.781208</td>\n",
       "      <td>-0.764607</td>\n",
       "      <td>1.000000</td>\n",
       "    </tr>\n",
       "  </tbody>\n",
       "</table>\n",
       "</div>"
      ],
      "text/plain": [
       "                                                    Percentage_scored  \\\n",
       "Percentage_scored                                            1.000000   \n",
       "Self_Study_hours                                             0.873026   \n",
       "How many Paranthas/Bhathuras/Cutltes do you pre...          -0.781208   \n",
       "\n",
       "                                                    Self_Study_hours  \\\n",
       "Percentage_scored                                           0.873026   \n",
       "Self_Study_hours                                            1.000000   \n",
       "How many Paranthas/Bhathuras/Cutltes do you pre...         -0.764607   \n",
       "\n",
       "                                                    How many Paranthas/Bhathuras/Cutltes do you prefer eating  \n",
       "Percentage_scored                                                                           -0.781208          \n",
       "Self_Study_hours                                                                            -0.764607          \n",
       "How many Paranthas/Bhathuras/Cutltes do you pre...                                           1.000000          "
      ]
     },
     "execution_count": 5,
     "metadata": {},
     "output_type": "execute_result"
    }
   ],
   "source": [
    "students.corr()\n",
    "# to know the correlation between the variables"
   ]
  },
  {
   "cell_type": "code",
   "execution_count": 6,
   "id": "65b128de",
   "metadata": {},
   "outputs": [
    {
     "data": {
      "text/plain": [
       "<seaborn.axisgrid.FacetGrid at 0x959f4b36a0>"
      ]
     },
     "execution_count": 6,
     "metadata": {},
     "output_type": "execute_result"
    },
    {
     "data": {
      "image/png": "[encoded data removed]",
      "text/plain": [
       "<Figure size 360x360 with 1 Axes>"
      ]
     },
     "metadata": {
      "needs_background": "light"
     },
     "output_type": "display_data"
    }
   ],
   "source": [
    "sns.relplot(y='Percentage_scored',x='Self_Study_hours', data=students)\n",
    "# scatterplot to understand the relationship between self study hours and the percentage scored"
   ]
  },
  {
   "cell_type": "markdown",
   "id": "58bc9ec4",
   "metadata": {},
   "source": [
    "It is clearly visible that as the number of hours increases the percentage of the student also increases"
   ]
  },
  {
   "cell_type": "code",
   "execution_count": 7,
   "id": "384405af",
   "metadata": {},
   "outputs": [
    {
     "data": {
      "text/plain": [
       "<seaborn.axisgrid.FacetGrid at 0x959f4b2770>"
      ]
     },
     "execution_count": 7,
     "metadata": {},
     "output_type": "execute_result"
    },
    {
     "data": {
      "image/png": "[encoded data removed]",
      "text/plain": [
       "<Figure size 466.25x360 with 1 Axes>"
      ]
     },
     "metadata": {
      "needs_background": "light"
     },
     "output_type": "display_data"
    }
   ],
   "source": [
    "sns.relplot(y='Percentage_scored',\n",
    "            x='How many Paranthas/Bhathuras/Cutltes do you prefer eating',\n",
    "            hue = 'Favourite Food', \n",
    "            data=students)\n",
    "# this scatter plot depicts the relationship between the intake in the qty. of food and the percentage scored "
   ]
  },
  {
   "cell_type": "markdown",
   "id": "ca82cdd2",
   "metadata": {},
   "source": [
    "It is clearly depictable that as we increase the consumption of paranthas or bhathuras the percentage decreases"
   ]
  },
  {
   "cell_type": "code",
   "execution_count": 8,
   "id": "4f448117",
   "metadata": {},
   "outputs": [
    {
     "data": {
      "text/html": [
       "<div>\n",
       "<style scoped>\n",
       "    .dataframe tbody tr th:only-of-type {\n",
       "        vertical-align: middle;\n",
       "    }\n",
       "\n",
       "    .dataframe tbody tr th {\n",
       "        vertical-align: top;\n",
       "    }\n",
       "\n",
       "    .dataframe thead th {\n",
       "        text-align: right;\n",
       "    }\n",
       "</style>\n",
       "<table border=\"1\" class=\"dataframe\">\n",
       "  <thead>\n",
       "    <tr style=\"text-align: right;\">\n",
       "      <th></th>\n",
       "      <th>Name</th>\n",
       "      <th>Class_studying</th>\n",
       "      <th>Percentage_scored</th>\n",
       "      <th>Self_Study_hours</th>\n",
       "      <th>Residential Status</th>\n",
       "      <th>Favourite Food</th>\n",
       "      <th>How many Paranthas/Bhathuras/Cutltes do you prefer eating</th>\n",
       "      <th>Do you feel stressed quite often</th>\n",
       "      <th>When is the most number of times you feel you are stressed</th>\n",
       "      <th>Which extra co-curricular activites do you prefer spending your leisure time</th>\n",
       "    </tr>\n",
       "  </thead>\n",
       "  <tbody>\n",
       "    <tr>\n",
       "      <th>0</th>\n",
       "      <td>Aaditya Sharma</td>\n",
       "      <td>XII</td>\n",
       "      <td>94</td>\n",
       "      <td>3.5</td>\n",
       "      <td>Day-Scholar</td>\n",
       "      <td>Bread Cutlet</td>\n",
       "      <td>1</td>\n",
       "      <td>Yes</td>\n",
       "      <td>While appearing for the exams</td>\n",
       "      <td>Sports</td>\n",
       "    </tr>\n",
       "    <tr>\n",
       "      <th>1</th>\n",
       "      <td>Veenu Mehra</td>\n",
       "      <td>XII</td>\n",
       "      <td>93</td>\n",
       "      <td>4.0</td>\n",
       "      <td>Hosteler</td>\n",
       "      <td>Daliya</td>\n",
       "      <td>1</td>\n",
       "      <td>Yes</td>\n",
       "      <td>While appearing for the exams</td>\n",
       "      <td>Sports</td>\n",
       "    </tr>\n",
       "    <tr>\n",
       "      <th>2</th>\n",
       "      <td>Anjali Garg</td>\n",
       "      <td>XII</td>\n",
       "      <td>85</td>\n",
       "      <td>3.0</td>\n",
       "      <td>Day-Scholar</td>\n",
       "      <td>Bhathura</td>\n",
       "      <td>1</td>\n",
       "      <td>Yes</td>\n",
       "      <td>While giving a speech</td>\n",
       "      <td>Dancing</td>\n",
       "    </tr>\n",
       "    <tr>\n",
       "      <th>3</th>\n",
       "      <td>Rahul Mehra</td>\n",
       "      <td>XII</td>\n",
       "      <td>82</td>\n",
       "      <td>4.5</td>\n",
       "      <td>Hosteler</td>\n",
       "      <td>Daliya</td>\n",
       "      <td>2</td>\n",
       "      <td>Yes</td>\n",
       "      <td>While giving a speech</td>\n",
       "      <td>Theatre</td>\n",
       "    </tr>\n",
       "  </tbody>\n",
       "</table>\n",
       "</div>"
      ],
      "text/plain": [
       "             Name Class_studying  Percentage_scored  Self_Study_hours  \\\n",
       "0  Aaditya Sharma            XII                 94               3.5   \n",
       "1     Veenu Mehra            XII                 93               4.0   \n",
       "2     Anjali Garg            XII                 85               3.0   \n",
       "3     Rahul Mehra            XII                 82               4.5   \n",
       "\n",
       "  Residential Status Favourite Food  \\\n",
       "0        Day-Scholar   Bread Cutlet   \n",
       "1           Hosteler         Daliya   \n",
       "2        Day-Scholar       Bhathura   \n",
       "3           Hosteler         Daliya   \n",
       "\n",
       "   How many Paranthas/Bhathuras/Cutltes do you prefer eating  \\\n",
       "0                                                  1           \n",
       "1                                                  1           \n",
       "2                                                  1           \n",
       "3                                                  2           \n",
       "\n",
       "  Do you feel stressed quite often  \\\n",
       "0                             Yes    \n",
       "1                             Yes    \n",
       "2                             Yes    \n",
       "3                             Yes    \n",
       "\n",
       "  When is the most number of times you feel you are stressed  \\\n",
       "0                      While appearing for the exams           \n",
       "1                      While appearing for the exams           \n",
       "2                              While giving a speech           \n",
       "3                              While giving a speech           \n",
       "\n",
       "  Which extra co-curricular activites do you prefer spending your leisure time  \n",
       "0                                             Sports                            \n",
       "1                                             Sports                            \n",
       "2                                            Dancing                            \n",
       "3                                            Theatre                            "
      ]
     },
     "execution_count": 8,
     "metadata": {},
     "output_type": "execute_result"
    }
   ],
   "source": [
    "percentage_greater_than_80 = students[students['Percentage_scored'] > 80]\n",
    "percentage_greater_than_80.head(4)\n",
    "# This phase shows us the filtered condition which displays the total students who have scored percentage greater than 80"
   ]
  },
  {
   "cell_type": "code",
   "execution_count": 9,
   "id": "81dd6a8f",
   "metadata": {},
   "outputs": [
    {
     "data": {
      "text/plain": [
       "(22, 10)"
      ]
     },
     "execution_count": 9,
     "metadata": {},
     "output_type": "execute_result"
    }
   ],
   "source": [
    "percentage_greater_than_80.shape"
   ]
  },
  {
   "cell_type": "code",
   "execution_count": 10,
   "id": "ab700fda",
   "metadata": {},
   "outputs": [
    {
     "data": {
      "text/plain": [
       "<AxesSubplot:xlabel='How many Paranthas/Bhathuras/Cutltes do you prefer eating', ylabel='Favourite Food'>"
      ]
     },
     "execution_count": 10,
     "metadata": {},
     "output_type": "execute_result"
    },
    {
     "data": {
      "image/png": "[encoded data removed]",
      "text/plain": [
       "<Figure size 432x288 with 1 Axes>"
      ]
     },
     "metadata": {
      "needs_background": "light"
     },
     "output_type": "display_data"
    }
   ],
   "source": [
    "sns.barplot(y='Favourite Food',\n",
    "            x='How many Paranthas/Bhathuras/Cutltes do you prefer eating',\n",
    "            data=percentage_greater_than_80)"
   ]
  },
  {
   "cell_type": "code",
   "execution_count": 11,
   "id": "43e04fe9",
   "metadata": {},
   "outputs": [
    {
     "data": {
      "text/plain": [
       "<seaborn.axisgrid.FacetGrid at 0x95a17b3b20>"
      ]
     },
     "execution_count": 11,
     "metadata": {},
     "output_type": "execute_result"
    },
    {
     "data": {
      "image/png": "[encoded data removed]",
      "text/plain": [
       "<Figure size 466.25x360 with 1 Axes>"
      ]
     },
     "metadata": {
      "needs_background": "light"
     },
     "output_type": "display_data"
    }
   ],
   "source": [
    "sns.relplot(y='Percentage_scored',x='Self_Study_hours',hue = 'Favourite Food', data=percentage_greater_than_80)"
   ]
  },
  {
   "cell_type": "code",
   "execution_count": 12,
   "id": "33987a77",
   "metadata": {},
   "outputs": [
    {
     "data": {
      "text/plain": [
       "<seaborn.axisgrid.FacetGrid at 0x95a1827a30>"
      ]
     },
     "execution_count": 12,
     "metadata": {},
     "output_type": "execute_result"
    },
    {
     "data": {
      "image/png": "[encoded data removed]",
      "text/plain": [
       "<Figure size 672.25x360 with 1 Axes>"
      ]
     },
     "metadata": {
      "needs_background": "light"
     },
     "output_type": "display_data"
    }
   ],
   "source": [
    "sns.catplot(x='Favourite Food',\n",
    "            y='Percentage_scored',\n",
    "            hue = 'How many Paranthas/Bhathuras/Cutltes do you prefer eating',\n",
    "            data=percentage_greater_than_80,\n",
    "           kind='bar')"
   ]
  },
  {
   "cell_type": "code",
   "execution_count": 13,
   "id": "5d1eceb8",
   "metadata": {},
   "outputs": [
    {
     "data": {
      "text/plain": [
       "Do you feel stressed quite often  When is the most number of times you feel you are stressed\n",
       "Yes                               While appearing for the exams                                 8\n",
       "                                  While giving a speech                                         8\n",
       "                                  While answering question asked by the teacher                 2\n",
       "Name: When is the most number of times you feel you are stressed, dtype: int64"
      ]
     },
     "execution_count": 13,
     "metadata": {},
     "output_type": "execute_result"
    }
   ],
   "source": [
    "stress_opinion= percentage_greater_than_80.groupby('Do you feel stressed quite often')['When is the most number of times you feel you are stressed'].value_counts()\n",
    "stress_opinion"
   ]
  },
  {
   "cell_type": "code",
   "execution_count": 14,
   "id": "2f981c9f",
   "metadata": {},
   "outputs": [
    {
     "data": {
      "text/plain": [
       "<seaborn.axisgrid.FacetGrid at 0x95a1826aa0>"
      ]
     },
     "execution_count": 14,
     "metadata": {},
     "output_type": "execute_result"
    },
    {
     "data": {
      "image/png": "[encoded data removed]",
      "text/plain": [
       "<Figure size 670.125x360 with 1 Axes>"
      ]
     },
     "metadata": {
      "needs_background": "light"
     },
     "output_type": "display_data"
    }
   ],
   "source": [
    "sns.relplot(y='Percentage_scored',x='Self_Study_hours',\n",
    "            hue = 'When is the most number of times you feel you are stressed', \n",
    "            data=percentage_greater_than_80)"
   ]
  },
  {
   "cell_type": "code",
   "execution_count": 15,
   "id": "fd862050",
   "metadata": {},
   "outputs": [
    {
     "data": {
      "text/plain": [
       "<seaborn.axisgrid.FacetGrid at 0x95a1804c10>"
      ]
     },
     "execution_count": 15,
     "metadata": {},
     "output_type": "execute_result"
    },
    {
     "data": {
      "text/plain": [
       "<Figure size 2160x3600 with 0 Axes>"
      ]
     },
     "metadata": {},
     "output_type": "display_data"
    },
    {
     "data": {
      "image/png": "[encoded data removed]",
      "text/plain": [
       "<Figure size 1750.12x720 with 5 Axes>"
      ]
     },
     "metadata": {
      "needs_background": "light"
     },
     "output_type": "display_data"
    }
   ],
   "source": [
    "plt.figure(figsize=(30,50))\n",
    "sns.catplot(y='Percentage_scored',col='Self_Study_hours',\n",
    "            hue = 'When is the most number of times you feel you are stressed', \n",
    "            x='Which extra co-curricular activites do you prefer spending your leisure time',\n",
    "            col_wrap=4,\n",
    "            data=percentage_greater_than_80)\n"
   ]
  },
  {
   "cell_type": "code",
   "execution_count": 18,
   "id": "81f8c095",
   "metadata": {},
   "outputs": [
    {
     "data": {
      "text/html": [
       "<div>\n",
       "<style scoped>\n",
       "    .dataframe tbody tr th:only-of-type {\n",
       "        vertical-align: middle;\n",
       "    }\n",
       "\n",
       "    .dataframe tbody tr th {\n",
       "        vertical-align: top;\n",
       "    }\n",
       "\n",
       "    .dataframe thead th {\n",
       "        text-align: right;\n",
       "    }\n",
       "</style>\n",
       "<table border=\"1\" class=\"dataframe\">\n",
       "  <thead>\n",
       "    <tr style=\"text-align: right;\">\n",
       "      <th></th>\n",
       "      <th>Name</th>\n",
       "      <th>Class_studying</th>\n",
       "      <th>Percentage_scored</th>\n",
       "      <th>Self_Study_hours</th>\n",
       "      <th>Residential Status</th>\n",
       "      <th>Favourite Food</th>\n",
       "      <th>How many Paranthas/Bhathuras/Cutltes do you prefer eating</th>\n",
       "      <th>Do you feel stressed quite often</th>\n",
       "      <th>When is the most number of times you feel you are stressed</th>\n",
       "      <th>Which extra co-curricular activites do you prefer spending your leisure time</th>\n",
       "    </tr>\n",
       "  </thead>\n",
       "  <tbody>\n",
       "    <tr>\n",
       "      <th>11</th>\n",
       "      <td>Devina Rattan</td>\n",
       "      <td>XII</td>\n",
       "      <td>75</td>\n",
       "      <td>2.0</td>\n",
       "      <td>Hosteler</td>\n",
       "      <td>Bhathura</td>\n",
       "      <td>4</td>\n",
       "      <td>No</td>\n",
       "      <td>NaN</td>\n",
       "      <td>Theatre</td>\n",
       "    </tr>\n",
       "    <tr>\n",
       "      <th>12</th>\n",
       "      <td>Kanika Mahajan</td>\n",
       "      <td>XII</td>\n",
       "      <td>68</td>\n",
       "      <td>2.5</td>\n",
       "      <td>Day-Scholar</td>\n",
       "      <td>Aluu Parantha</td>\n",
       "      <td>2</td>\n",
       "      <td>Yes</td>\n",
       "      <td>While answering question asked by the teacher</td>\n",
       "      <td>Dancing</td>\n",
       "    </tr>\n",
       "    <tr>\n",
       "      <th>13</th>\n",
       "      <td>Dhruv Ranade</td>\n",
       "      <td>XII</td>\n",
       "      <td>77</td>\n",
       "      <td>2.0</td>\n",
       "      <td>Hosteler</td>\n",
       "      <td>Aluu Parantha</td>\n",
       "      <td>1</td>\n",
       "      <td>No</td>\n",
       "      <td>NaN</td>\n",
       "      <td>Sports</td>\n",
       "    </tr>\n",
       "    <tr>\n",
       "      <th>14</th>\n",
       "      <td>Ambesh Sharma</td>\n",
       "      <td>XII</td>\n",
       "      <td>79</td>\n",
       "      <td>1.5</td>\n",
       "      <td>Day-Scholar</td>\n",
       "      <td>Bhathura</td>\n",
       "      <td>3</td>\n",
       "      <td>Yes</td>\n",
       "      <td>While appearing for the exams</td>\n",
       "      <td>Sports</td>\n",
       "    </tr>\n",
       "  </tbody>\n",
       "</table>\n",
       "</div>"
      ],
      "text/plain": [
       "              Name Class_studying  Percentage_scored  Self_Study_hours  \\\n",
       "11   Devina Rattan            XII                 75               2.0   \n",
       "12  Kanika Mahajan            XII                 68               2.5   \n",
       "13    Dhruv Ranade            XII                 77               2.0   \n",
       "14   Ambesh Sharma            XII                 79               1.5   \n",
       "\n",
       "   Residential Status Favourite Food  \\\n",
       "11           Hosteler       Bhathura   \n",
       "12        Day-Scholar  Aluu Parantha   \n",
       "13           Hosteler  Aluu Parantha   \n",
       "14        Day-Scholar       Bhathura   \n",
       "\n",
       "    How many Paranthas/Bhathuras/Cutltes do you prefer eating  \\\n",
       "11                                                  4           \n",
       "12                                                  2           \n",
       "13                                                  1           \n",
       "14                                                  3           \n",
       "\n",
       "   Do you feel stressed quite often  \\\n",
       "11                               No   \n",
       "12                             Yes    \n",
       "13                               No   \n",
       "14                             Yes    \n",
       "\n",
       "   When is the most number of times you feel you are stressed  \\\n",
       "11                                                NaN           \n",
       "12      While answering question asked by the teacher           \n",
       "13                                                NaN           \n",
       "14                      While appearing for the exams           \n",
       "\n",
       "   Which extra co-curricular activites do you prefer spending your leisure time  \n",
       "11                                            Theatre                            \n",
       "12                                            Dancing                            \n",
       "13                                             Sports                            \n",
       "14                                             Sports                            "
      ]
     },
     "execution_count": 18,
     "metadata": {},
     "output_type": "execute_result"
    }
   ],
   "source": [
    "percentage_between_65_and_80 = students[np.logical_and(students['Percentage_scored']>65,students['Percentage_scored']<80)]\n",
    "percentage_between_65_and_80.head(4)"
   ]
  },
  {
   "cell_type": "markdown",
   "id": "e88bf11d",
   "metadata": {},
   "source": [
    "This is another segregation which entails the list of students who have scored between 65 and 80."
   ]
  },
  {
   "cell_type": "code",
   "execution_count": 19,
   "id": "bc087709",
   "metadata": {},
   "outputs": [
    {
     "data": {
      "text/plain": [
       "(16, 10)"
      ]
     },
     "execution_count": 19,
     "metadata": {},
     "output_type": "execute_result"
    }
   ],
   "source": [
    "percentage_between_65_and_80.shape"
   ]
  },
  {
   "cell_type": "code",
   "execution_count": 20,
   "id": "ce3ffe13",
   "metadata": {},
   "outputs": [
    {
     "data": {
      "text/plain": [
       "<AxesSubplot:xlabel='Favourite Food', ylabel='How many Paranthas/Bhathuras/Cutltes do you prefer eating'>"
      ]
     },
     "execution_count": 20,
     "metadata": {},
     "output_type": "execute_result"
    },
    {
     "data": {
      "image/png": "[encoded data removed]",
      "text/plain": [
       "<Figure size 432x288 with 1 Axes>"
      ]
     },
     "metadata": {
      "needs_background": "light"
     },
     "output_type": "display_data"
    }
   ],
   "source": [
    "sns.barplot(x='Favourite Food',\n",
    "            y='How many Paranthas/Bhathuras/Cutltes do you prefer eating',\n",
    "            data=percentage_between_65_and_80)"
   ]
  },
  {
   "cell_type": "code",
   "execution_count": 21,
   "id": "ddbc485a",
   "metadata": {},
   "outputs": [
    {
     "data": {
      "text/plain": [
       "<seaborn.axisgrid.FacetGrid at 0x959f4efeb0>"
      ]
     },
     "execution_count": 21,
     "metadata": {},
     "output_type": "execute_result"
    },
    {
     "data": {
      "image/png": "[encoded data removed]",
      "text/plain": [
       "<Figure size 466.25x360 with 1 Axes>"
      ]
     },
     "metadata": {
      "needs_background": "light"
     },
     "output_type": "display_data"
    }
   ],
   "source": [
    "sns.relplot(y='Percentage_scored',x='Self_Study_hours',hue = 'Favourite Food', data=percentage_between_65_and_80)"
   ]
  },
  {
   "cell_type": "code",
   "execution_count": 22,
   "id": "bcae09ee",
   "metadata": {
    "scrolled": true
   },
   "outputs": [
    {
     "data": {
      "text/plain": [
       "<seaborn.axisgrid.FacetGrid at 0x95a2aaada0>"
      ]
     },
     "execution_count": 22,
     "metadata": {},
     "output_type": "execute_result"
    },
    {
     "data": {
      "text/plain": [
       "<Figure size 1080x1080 with 0 Axes>"
      ]
     },
     "metadata": {},
     "output_type": "display_data"
    },
    {
     "data": {
      "image/png": "[encoded data removed]",
      "text/plain": [
       "<Figure size 672.25x360 with 1 Axes>"
      ]
     },
     "metadata": {
      "needs_background": "light"
     },
     "output_type": "display_data"
    }
   ],
   "source": [
    "plt.figure(figsize=(15,15))\n",
    "sns.catplot(x='Favourite Food',\n",
    "            y='Percentage_scored',\n",
    "            hue = 'How many Paranthas/Bhathuras/Cutltes do you prefer eating',\n",
    "            data=percentage_between_65_and_80,\n",
    "           kind='bar')"
   ]
  },
  {
   "cell_type": "code",
   "execution_count": 23,
   "id": "c1858848",
   "metadata": {},
   "outputs": [
    {
     "data": {
      "text/plain": [
       "Do you feel stressed quite often  When is the most number of times you feel you are stressed\n",
       "Yes                               While answering question asked by the teacher                 4\n",
       "                                  While appearing for the exams                                 4\n",
       "Name: When is the most number of times you feel you are stressed, dtype: int64"
      ]
     },
     "execution_count": 23,
     "metadata": {},
     "output_type": "execute_result"
    }
   ],
   "source": [
    "stress_opinion= percentage_between_65_and_80.groupby('Do you feel stressed quite often')['When is the most number of times you feel you are stressed'].value_counts()\n",
    "stress_opinion"
   ]
  },
  {
   "cell_type": "code",
   "execution_count": 24,
   "id": "746aef3c",
   "metadata": {},
   "outputs": [
    {
     "data": {
      "text/plain": [
       "<seaborn.axisgrid.FacetGrid at 0x95a19a8460>"
      ]
     },
     "execution_count": 24,
     "metadata": {},
     "output_type": "execute_result"
    },
    {
     "data": {
      "image/png": "[encoded data removed]",
      "text/plain": [
       "<Figure size 670.125x360 with 1 Axes>"
      ]
     },
     "metadata": {
      "needs_background": "light"
     },
     "output_type": "display_data"
    }
   ],
   "source": [
    "sns.relplot(y='Percentage_scored',x='Self_Study_hours',\n",
    "            hue = 'When is the most number of times you feel you are stressed', \n",
    "            data=percentage_between_65_and_80)"
   ]
  },
  {
   "cell_type": "code",
   "execution_count": 25,
   "id": "52b83291",
   "metadata": {},
   "outputs": [
    {
     "data": {
      "text/plain": [
       "<seaborn.axisgrid.FacetGrid at 0x95a318d540>"
      ]
     },
     "execution_count": 25,
     "metadata": {},
     "output_type": "execute_result"
    },
    {
     "data": {
      "text/plain": [
       "<Figure size 2160x3600 with 0 Axes>"
      ]
     },
     "metadata": {},
     "output_type": "display_data"
    },
    {
     "data": {
      "image/png": "[encoded data removed]",
      "text/plain": [
       "<Figure size 1750.12x360 with 3 Axes>"
      ]
     },
     "metadata": {
      "needs_background": "light"
     },
     "output_type": "display_data"
    }
   ],
   "source": [
    "plt.figure(figsize=(30,50))\n",
    "sns.catplot(y='Percentage_scored',col='Self_Study_hours',\n",
    "            hue = 'When is the most number of times you feel you are stressed', \n",
    "            x='Which extra co-curricular activites do you prefer spending your leisure time',\n",
    "            col_wrap=4,\n",
    "            data=percentage_between_65_and_80)"
   ]
  },
  {
   "cell_type": "code",
   "execution_count": 27,
   "id": "c24d7851",
   "metadata": {},
   "outputs": [
    {
     "data": {
      "text/html": [
       "<div>\n",
       "<style scoped>\n",
       "    .dataframe tbody tr th:only-of-type {\n",
       "        vertical-align: middle;\n",
       "    }\n",
       "\n",
       "    .dataframe tbody tr th {\n",
       "        vertical-align: top;\n",
       "    }\n",
       "\n",
       "    .dataframe thead th {\n",
       "        text-align: right;\n",
       "    }\n",
       "</style>\n",
       "<table border=\"1\" class=\"dataframe\">\n",
       "  <thead>\n",
       "    <tr style=\"text-align: right;\">\n",
       "      <th></th>\n",
       "      <th>Name</th>\n",
       "      <th>Class_studying</th>\n",
       "      <th>Percentage_scored</th>\n",
       "      <th>Self_Study_hours</th>\n",
       "      <th>Residential Status</th>\n",
       "      <th>Favourite Food</th>\n",
       "      <th>How many Paranthas/Bhathuras/Cutltes do you prefer eating</th>\n",
       "      <th>Do you feel stressed quite often</th>\n",
       "      <th>When is the most number of times you feel you are stressed</th>\n",
       "      <th>Which extra co-curricular activites do you prefer spending your leisure time</th>\n",
       "    </tr>\n",
       "  </thead>\n",
       "  <tbody>\n",
       "    <tr>\n",
       "      <th>20</th>\n",
       "      <td>Deepanshu Garg</td>\n",
       "      <td>XII</td>\n",
       "      <td>64</td>\n",
       "      <td>1.0</td>\n",
       "      <td>Day-Scholar</td>\n",
       "      <td>Bread Cutlet</td>\n",
       "      <td>4</td>\n",
       "      <td>Yes</td>\n",
       "      <td>While answering question asked by the teacher</td>\n",
       "      <td>Cooking</td>\n",
       "    </tr>\n",
       "    <tr>\n",
       "      <th>21</th>\n",
       "      <td>Vinay Salotra</td>\n",
       "      <td>XII</td>\n",
       "      <td>61</td>\n",
       "      <td>1.0</td>\n",
       "      <td>Hosteler</td>\n",
       "      <td>Aluu Parantha</td>\n",
       "      <td>4</td>\n",
       "      <td>No</td>\n",
       "      <td>NaN</td>\n",
       "      <td>Singing</td>\n",
       "    </tr>\n",
       "    <tr>\n",
       "      <th>22</th>\n",
       "      <td>Kulbhushan Singh</td>\n",
       "      <td>XII</td>\n",
       "      <td>59</td>\n",
       "      <td>0.5</td>\n",
       "      <td>Day-Scholar</td>\n",
       "      <td>Aluu Parantha</td>\n",
       "      <td>3</td>\n",
       "      <td>Yes</td>\n",
       "      <td>While giving a speech</td>\n",
       "      <td>Theatre</td>\n",
       "    </tr>\n",
       "    <tr>\n",
       "      <th>23</th>\n",
       "      <td>Aparna Chowdhary</td>\n",
       "      <td>XII</td>\n",
       "      <td>57</td>\n",
       "      <td>0.5</td>\n",
       "      <td>Hosteler</td>\n",
       "      <td>Bhathura</td>\n",
       "      <td>4</td>\n",
       "      <td>No</td>\n",
       "      <td>NaN</td>\n",
       "      <td>Singing</td>\n",
       "    </tr>\n",
       "  </tbody>\n",
       "</table>\n",
       "</div>"
      ],
      "text/plain": [
       "                Name Class_studying  Percentage_scored  Self_Study_hours  \\\n",
       "20    Deepanshu Garg            XII                 64               1.0   \n",
       "21     Vinay Salotra            XII                 61               1.0   \n",
       "22  Kulbhushan Singh            XII                 59               0.5   \n",
       "23  Aparna Chowdhary            XII                 57               0.5   \n",
       "\n",
       "   Residential Status Favourite Food  \\\n",
       "20        Day-Scholar   Bread Cutlet   \n",
       "21           Hosteler  Aluu Parantha   \n",
       "22        Day-Scholar  Aluu Parantha   \n",
       "23           Hosteler       Bhathura   \n",
       "\n",
       "    How many Paranthas/Bhathuras/Cutltes do you prefer eating  \\\n",
       "20                                                  4           \n",
       "21                                                  4           \n",
       "22                                                  3           \n",
       "23                                                  4           \n",
       "\n",
       "   Do you feel stressed quite often  \\\n",
       "20                             Yes    \n",
       "21                               No   \n",
       "22                             Yes    \n",
       "23                               No   \n",
       "\n",
       "   When is the most number of times you feel you are stressed  \\\n",
       "20      While answering question asked by the teacher           \n",
       "21                                                NaN           \n",
       "22                              While giving a speech           \n",
       "23                                                NaN           \n",
       "\n",
       "   Which extra co-curricular activites do you prefer spending your leisure time  \n",
       "20                                            Cooking                            \n",
       "21                                            Singing                            \n",
       "22                                            Theatre                            \n",
       "23                                            Singing                            "
      ]
     },
     "execution_count": 27,
     "metadata": {},
     "output_type": "execute_result"
    }
   ],
   "source": [
    "percentage_less_than_65 = students[students['Percentage_scored'] <65]\n",
    "percentage_less_than_65.head(4)"
   ]
  },
  {
   "cell_type": "code",
   "execution_count": 28,
   "id": "f91c115c",
   "metadata": {},
   "outputs": [
    {
     "data": {
      "text/plain": [
       "(20, 10)"
      ]
     },
     "execution_count": 28,
     "metadata": {},
     "output_type": "execute_result"
    }
   ],
   "source": [
    "percentage_less_than_65.shape"
   ]
  },
  {
   "cell_type": "code",
   "execution_count": 29,
   "id": "a1f543c4",
   "metadata": {},
   "outputs": [
    {
     "data": {
      "text/plain": [
       "<AxesSubplot:xlabel='Favourite Food', ylabel='How many Paranthas/Bhathuras/Cutltes do you prefer eating'>"
      ]
     },
     "execution_count": 29,
     "metadata": {},
     "output_type": "execute_result"
    },
    {
     "data": {
      "image/png": "[encoded data removed]",
      "text/plain": [
       "<Figure size 432x288 with 1 Axes>"
      ]
     },
     "metadata": {
      "needs_background": "light"
     },
     "output_type": "display_data"
    }
   ],
   "source": [
    "sns.barplot(x='Favourite Food',y='How many Paranthas/Bhathuras/Cutltes do you prefer eating',data=percentage_less_than_65)"
   ]
  },
  {
   "cell_type": "code",
   "execution_count": 30,
   "id": "df00b9b7",
   "metadata": {},
   "outputs": [
    {
     "data": {
      "text/plain": [
       "<seaborn.axisgrid.FacetGrid at 0x959f5f62c0>"
      ]
     },
     "execution_count": 30,
     "metadata": {},
     "output_type": "execute_result"
    },
    {
     "data": {
      "image/png": "[encoded data removed]",
      "text/plain": [
       "<Figure size 466.25x360 with 1 Axes>"
      ]
     },
     "metadata": {
      "needs_background": "light"
     },
     "output_type": "display_data"
    }
   ],
   "source": [
    "sns.relplot(y='Percentage_scored',x='Self_Study_hours',hue = 'Favourite Food', data=percentage_less_than_65)"
   ]
  },
  {
   "cell_type": "code",
   "execution_count": 31,
   "id": "da6c7ec6",
   "metadata": {},
   "outputs": [
    {
     "data": {
      "text/plain": [
       "<seaborn.axisgrid.FacetGrid at 0x95a369f8b0>"
      ]
     },
     "execution_count": 31,
     "metadata": {},
     "output_type": "execute_result"
    },
    {
     "data": {
      "text/plain": [
       "<Figure size 1080x1080 with 0 Axes>"
      ]
     },
     "metadata": {},
     "output_type": "display_data"
    },
    {
     "data": {
      "image/png": "[encoded data removed]",
      "text/plain": [
       "<Figure size 672.25x360 with 1 Axes>"
      ]
     },
     "metadata": {
      "needs_background": "light"
     },
     "output_type": "display_data"
    }
   ],
   "source": [
    "plt.figure(figsize=(15,15))\n",
    "sns.catplot(x='Favourite Food',\n",
    "            y='Percentage_scored',\n",
    "            hue = 'How many Paranthas/Bhathuras/Cutltes do you prefer eating',\n",
    "            data=percentage_less_than_65,\n",
    "           kind='bar')"
   ]
  },
  {
   "cell_type": "code",
   "execution_count": 32,
   "id": "d8bdd67e",
   "metadata": {},
   "outputs": [
    {
     "data": {
      "text/plain": [
       "Do you feel stressed quite often  When is the most number of times you feel you are stressed\n",
       "Yes                               While appearing for the exams                                 4\n",
       "                                  While answering question asked by the teacher                 2\n",
       "                                  While being called up by the principle                        2\n",
       "                                  While giving a speech                                         2\n",
       "Name: When is the most number of times you feel you are stressed, dtype: int64"
      ]
     },
     "execution_count": 32,
     "metadata": {},
     "output_type": "execute_result"
    }
   ],
   "source": [
    "stress_opinion= percentage_less_than_65.groupby('Do you feel stressed quite often')['When is the most number of times you feel you are stressed'].value_counts()\n",
    "stress_opinion"
   ]
  },
  {
   "cell_type": "code",
   "execution_count": 33,
   "id": "2626a297",
   "metadata": {},
   "outputs": [
    {
     "data": {
      "text/plain": [
       "<seaborn.axisgrid.FacetGrid at 0x95a36b4340>"
      ]
     },
     "execution_count": 33,
     "metadata": {},
     "output_type": "execute_result"
    },
    {
     "data": {
      "text/plain": [
       "<Figure size 2160x3600 with 0 Axes>"
      ]
     },
     "metadata": {},
     "output_type": "display_data"
    },
    {
     "data": {
      "image/png": "[encoded data removed]",
      "text/plain": [
       "<Figure size 1750.12x360 with 4 Axes>"
      ]
     },
     "metadata": {
      "needs_background": "light"
     },
     "output_type": "display_data"
    }
   ],
   "source": [
    "plt.figure(figsize=(30,50))\n",
    "sns.catplot(y='Percentage_scored',col='Self_Study_hours',\n",
    "            hue = 'When is the most number of times you feel you are stressed', \n",
    "            x='Which extra co-curricular activites do you prefer spending your leisure time',\n",
    "            col_wrap=4,\n",
    "            data=percentage_less_than_65)"
   ]
  },
  {
   "cell_type": "code",
   "execution_count": null,
   "id": "38aeba3e",
   "metadata": {},
   "outputs": [],
   "source": []
  }
 ],
 "metadata": {
  "kernelspec": {
   "display_name": "Python 3 (ipykernel)",
   "language": "python",
   "name": "python3"
  },
  "language_info": {
   "codemirror_mode": {
    "name": "ipython",
    "version": 3
   },
   "file_extension": ".py",
   "mimetype": "text/x-python",
   "name": "python",
   "nbconvert_exporter": "python",
   "pygments_lexer": "ipython3",
   "version": "3.10.1"
  }
 },
 "nbformat": 4,
 "nbformat_minor": 5
}
